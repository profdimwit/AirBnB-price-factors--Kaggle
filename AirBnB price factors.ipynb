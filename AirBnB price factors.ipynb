{
  "nbformat": 4,
  "nbformat_minor": 0,
  "metadata": {
    "anaconda-cloud": {},
    "kernelspec": {
      "display_name": "Python 3",
      "language": "python",
      "name": "python3"
    },
    "language_info": {
      "codemirror_mode": {
        "name": "ipython",
        "version": 3
      },
      "file_extension": ".py",
      "mimetype": "text/x-python",
      "name": "python",
      "nbconvert_exporter": "python",
      "pygments_lexer": "ipython3",
      "version": "3.6.5"
    },
    "colab": {
      "name": "Копия блокнота \"Convenience_sample_XGBoost_better results in Kaggle.ipynb\"",
      "provenance": [],
      "collapsed_sections": [],
      "toc_visible": true
    }
  },
  "cells": [
    {
      "cell_type": "markdown",
      "metadata": {
        "id": "vOGXM5S1riCM"
      },
      "source": [
        "\n",
        "# Boosting and Stacking\n"
      ]
    },
    {
      "cell_type": "code",
      "metadata": {
        "id": "MrQhU7iqriCO"
      },
      "source": [
        "# Packages\n",
        "import numpy as np\n",
        "import pandas as pd\n",
        "import warnings\n",
        "import matplotlib.pyplot as plt\n",
        "import seaborn as sns\n",
        "warnings.filterwarnings('ignore') "
      ],
      "execution_count": null,
      "outputs": []
    },
    {
      "cell_type": "code",
      "metadata": {
        "scrolled": true,
        "id": "WKLmXYiRriCS"
      },
      "source": [
        "from sklearn.model_selection import train_test_split\n",
        "from sklearn.model_selection import GridSearchCV, RandomizedSearchCV\n",
        "from sklearn.metrics import mean_squared_error, r2_score,  mean_absolute_error\n",
        "\n",
        "from sklearn.pipeline import Pipeline\n",
        "from sklearn.preprocessing import StandardScaler\n",
        "\n",
        "from sklearn.linear_model import LinearRegression, LassoCV, RidgeCV, ElasticNetCV\n",
        "from sklearn.tree import DecisionTreeRegressor\n",
        "from sklearn.ensemble import RandomForestRegressor, BaggingRegressor\n",
        "import xgboost as xgb\n",
        "import lightgbm as lgb\n",
        "from mlxtend.regressor import StackingCVRegressor"
      ],
      "execution_count": null,
      "outputs": []
    },
    {
      "cell_type": "markdown",
      "metadata": {
        "id": "9JKSeF0uriCU"
      },
      "source": [
        "\n",
        "## Data\n"
      ]
    },
    {
      "cell_type": "code",
      "metadata": {
        "id": "rqh5RsMsriCV",
        "outputId": "9a6e70d4-4d4e-4c3c-e5ae-bd2b4c805dd0",
        "colab": {
          "base_uri": "https://localhost:8080/",
          "height": 340
        }
      },
      "source": [
        "data=pd.read_csv('train.csv', index_col=[0]) # we'll further divide it into training and testing sets for model evaluation and selection\n",
        "data.head()"
      ],
      "execution_count": null,
      "outputs": [
        {
          "output_type": "execute_result",
          "data": {
            "text/html": [
              "<div>\n",
              "<style scoped>\n",
              "    .dataframe tbody tr th:only-of-type {\n",
              "        vertical-align: middle;\n",
              "    }\n",
              "\n",
              "    .dataframe tbody tr th {\n",
              "        vertical-align: top;\n",
              "    }\n",
              "\n",
              "    .dataframe thead th {\n",
              "        text-align: right;\n",
              "    }\n",
              "</style>\n",
              "<table border=\"1\" class=\"dataframe\">\n",
              "  <thead>\n",
              "    <tr style=\"text-align: right;\">\n",
              "      <th></th>\n",
              "      <th>price</th>\n",
              "      <th>host_is_superhost</th>\n",
              "      <th>host_total_listings_count</th>\n",
              "      <th>host_identity_verified</th>\n",
              "      <th>latitude</th>\n",
              "      <th>longitude</th>\n",
              "      <th>property_type</th>\n",
              "      <th>room_type</th>\n",
              "      <th>accommodates</th>\n",
              "      <th>bathrooms</th>\n",
              "      <th>bedrooms</th>\n",
              "      <th>beds</th>\n",
              "      <th>security_deposit</th>\n",
              "      <th>cleaning_fee</th>\n",
              "      <th>extra_people</th>\n",
              "      <th>minimum_nights</th>\n",
              "      <th>maximum_nights</th>\n",
              "      <th>number_of_reviews</th>\n",
              "      <th>review_scores_rating</th>\n",
              "      <th>review_scores_accuracy</th>\n",
              "      <th>review_scores_cleanliness</th>\n",
              "      <th>review_scores_checkin</th>\n",
              "      <th>review_scores_communication</th>\n",
              "      <th>review_scores_location</th>\n",
              "      <th>review_scores_value</th>\n",
              "      <th>instant_bookable</th>\n",
              "      <th>cancellation_policy</th>\n",
              "      <th>reviews_per_month</th>\n",
              "    </tr>\n",
              "    <tr>\n",
              "      <th>id</th>\n",
              "      <th></th>\n",
              "      <th></th>\n",
              "      <th></th>\n",
              "      <th></th>\n",
              "      <th></th>\n",
              "      <th></th>\n",
              "      <th></th>\n",
              "      <th></th>\n",
              "      <th></th>\n",
              "      <th></th>\n",
              "      <th></th>\n",
              "      <th></th>\n",
              "      <th></th>\n",
              "      <th></th>\n",
              "      <th></th>\n",
              "      <th></th>\n",
              "      <th></th>\n",
              "      <th></th>\n",
              "      <th></th>\n",
              "      <th></th>\n",
              "      <th></th>\n",
              "      <th></th>\n",
              "      <th></th>\n",
              "      <th></th>\n",
              "      <th></th>\n",
              "      <th></th>\n",
              "      <th></th>\n",
              "      <th></th>\n",
              "    </tr>\n",
              "  </thead>\n",
              "  <tbody>\n",
              "    <tr>\n",
              "      <th>1</th>\n",
              "      <td>85</td>\n",
              "      <td>f</td>\n",
              "      <td>2</td>\n",
              "      <td>t</td>\n",
              "      <td>-37.81554</td>\n",
              "      <td>144.96526</td>\n",
              "      <td>Apartment</td>\n",
              "      <td>Private room</td>\n",
              "      <td>4</td>\n",
              "      <td>0.5</td>\n",
              "      <td>1.0</td>\n",
              "      <td>0.0</td>\n",
              "      <td>300.0</td>\n",
              "      <td>11.0</td>\n",
              "      <td>27</td>\n",
              "      <td>1</td>\n",
              "      <td>25</td>\n",
              "      <td>115</td>\n",
              "      <td>98.0</td>\n",
              "      <td>10.0</td>\n",
              "      <td>10.0</td>\n",
              "      <td>10.0</td>\n",
              "      <td>10.0</td>\n",
              "      <td>10.0</td>\n",
              "      <td>10.0</td>\n",
              "      <td>f</td>\n",
              "      <td>strict_14_with_grace_period</td>\n",
              "      <td>3.68</td>\n",
              "    </tr>\n",
              "    <tr>\n",
              "      <th>2</th>\n",
              "      <td>151</td>\n",
              "      <td>f</td>\n",
              "      <td>18</td>\n",
              "      <td>f</td>\n",
              "      <td>-37.91984</td>\n",
              "      <td>145.03395</td>\n",
              "      <td>Apartment</td>\n",
              "      <td>Entire home/apt</td>\n",
              "      <td>6</td>\n",
              "      <td>2.0</td>\n",
              "      <td>2.0</td>\n",
              "      <td>3.0</td>\n",
              "      <td>200.0</td>\n",
              "      <td>120.0</td>\n",
              "      <td>10</td>\n",
              "      <td>1</td>\n",
              "      <td>1125</td>\n",
              "      <td>4</td>\n",
              "      <td>95.0</td>\n",
              "      <td>10.0</td>\n",
              "      <td>9.0</td>\n",
              "      <td>10.0</td>\n",
              "      <td>10.0</td>\n",
              "      <td>10.0</td>\n",
              "      <td>10.0</td>\n",
              "      <td>t</td>\n",
              "      <td>moderate</td>\n",
              "      <td>0.82</td>\n",
              "    </tr>\n",
              "    <tr>\n",
              "      <th>3</th>\n",
              "      <td>188</td>\n",
              "      <td>f</td>\n",
              "      <td>1</td>\n",
              "      <td>t</td>\n",
              "      <td>-37.64818</td>\n",
              "      <td>145.54512</td>\n",
              "      <td>Guesthouse</td>\n",
              "      <td>Entire home/apt</td>\n",
              "      <td>6</td>\n",
              "      <td>1.0</td>\n",
              "      <td>3.0</td>\n",
              "      <td>4.0</td>\n",
              "      <td>0.0</td>\n",
              "      <td>20.0</td>\n",
              "      <td>0</td>\n",
              "      <td>1</td>\n",
              "      <td>1124</td>\n",
              "      <td>200</td>\n",
              "      <td>93.0</td>\n",
              "      <td>9.0</td>\n",
              "      <td>9.0</td>\n",
              "      <td>10.0</td>\n",
              "      <td>10.0</td>\n",
              "      <td>10.0</td>\n",
              "      <td>9.0</td>\n",
              "      <td>t</td>\n",
              "      <td>strict_14_with_grace_period</td>\n",
              "      <td>5.50</td>\n",
              "    </tr>\n",
              "    <tr>\n",
              "      <th>4</th>\n",
              "      <td>200</td>\n",
              "      <td>f</td>\n",
              "      <td>1</td>\n",
              "      <td>t</td>\n",
              "      <td>-37.80245</td>\n",
              "      <td>144.98457</td>\n",
              "      <td>Apartment</td>\n",
              "      <td>Entire home/apt</td>\n",
              "      <td>4</td>\n",
              "      <td>2.5</td>\n",
              "      <td>2.0</td>\n",
              "      <td>2.0</td>\n",
              "      <td>0.0</td>\n",
              "      <td>50.0</td>\n",
              "      <td>0</td>\n",
              "      <td>1</td>\n",
              "      <td>30</td>\n",
              "      <td>3</td>\n",
              "      <td>100.0</td>\n",
              "      <td>10.0</td>\n",
              "      <td>10.0</td>\n",
              "      <td>10.0</td>\n",
              "      <td>10.0</td>\n",
              "      <td>10.0</td>\n",
              "      <td>10.0</td>\n",
              "      <td>t</td>\n",
              "      <td>flexible</td>\n",
              "      <td>0.26</td>\n",
              "    </tr>\n",
              "    <tr>\n",
              "      <th>5</th>\n",
              "      <td>90</td>\n",
              "      <td>t</td>\n",
              "      <td>2</td>\n",
              "      <td>f</td>\n",
              "      <td>-37.81796</td>\n",
              "      <td>144.96541</td>\n",
              "      <td>Apartment</td>\n",
              "      <td>Entire home/apt</td>\n",
              "      <td>2</td>\n",
              "      <td>1.0</td>\n",
              "      <td>1.0</td>\n",
              "      <td>1.0</td>\n",
              "      <td>200.0</td>\n",
              "      <td>45.0</td>\n",
              "      <td>0</td>\n",
              "      <td>1</td>\n",
              "      <td>14</td>\n",
              "      <td>129</td>\n",
              "      <td>98.0</td>\n",
              "      <td>10.0</td>\n",
              "      <td>10.0</td>\n",
              "      <td>10.0</td>\n",
              "      <td>10.0</td>\n",
              "      <td>10.0</td>\n",
              "      <td>10.0</td>\n",
              "      <td>t</td>\n",
              "      <td>strict_14_with_grace_period</td>\n",
              "      <td>8.06</td>\n",
              "    </tr>\n",
              "  </tbody>\n",
              "</table>\n",
              "</div>"
            ],
            "text/plain": [
              "    price host_is_superhost  ...          cancellation_policy reviews_per_month\n",
              "id                           ...                                               \n",
              "1      85                 f  ...  strict_14_with_grace_period              3.68\n",
              "2     151                 f  ...                     moderate              0.82\n",
              "3     188                 f  ...  strict_14_with_grace_period              5.50\n",
              "4     200                 f  ...                     flexible              0.26\n",
              "5      90                 t  ...  strict_14_with_grace_period              8.06\n",
              "\n",
              "[5 rows x 28 columns]"
            ]
          },
          "metadata": {
            "tags": []
          },
          "execution_count": 3
        }
      ]
    },
    {
      "cell_type": "code",
      "metadata": {
        "id": "XbsDYpV8x2R7",
        "outputId": "09460ded-1f29-48ca-cd46-ad233dd0f797",
        "colab": {
          "base_uri": "https://localhost:8080/",
          "height": 34
        }
      },
      "source": [
        "data.shape"
      ],
      "execution_count": null,
      "outputs": [
        {
          "output_type": "execute_result",
          "data": {
            "text/plain": [
              "(7000, 28)"
            ]
          },
          "metadata": {
            "tags": []
          },
          "execution_count": 4
        }
      ]
    },
    {
      "cell_type": "code",
      "metadata": {
        "id": "Hd_inXa_x4LP",
        "outputId": "b9664422-c0ef-48d0-99fd-d6f52b73baa6",
        "colab": {
          "base_uri": "https://localhost:8080/",
          "height": 340
        }
      },
      "source": [
        "leaderboard=pd.read_csv('test.csv', index_col=[0]) # we'll use it for predictions for Kaggle\n",
        "data.head()"
      ],
      "execution_count": null,
      "outputs": [
        {
          "output_type": "execute_result",
          "data": {
            "text/html": [
              "<div>\n",
              "<style scoped>\n",
              "    .dataframe tbody tr th:only-of-type {\n",
              "        vertical-align: middle;\n",
              "    }\n",
              "\n",
              "    .dataframe tbody tr th {\n",
              "        vertical-align: top;\n",
              "    }\n",
              "\n",
              "    .dataframe thead th {\n",
              "        text-align: right;\n",
              "    }\n",
              "</style>\n",
              "<table border=\"1\" class=\"dataframe\">\n",
              "  <thead>\n",
              "    <tr style=\"text-align: right;\">\n",
              "      <th></th>\n",
              "      <th>price</th>\n",
              "      <th>host_is_superhost</th>\n",
              "      <th>host_total_listings_count</th>\n",
              "      <th>host_identity_verified</th>\n",
              "      <th>latitude</th>\n",
              "      <th>longitude</th>\n",
              "      <th>property_type</th>\n",
              "      <th>room_type</th>\n",
              "      <th>accommodates</th>\n",
              "      <th>bathrooms</th>\n",
              "      <th>bedrooms</th>\n",
              "      <th>beds</th>\n",
              "      <th>security_deposit</th>\n",
              "      <th>cleaning_fee</th>\n",
              "      <th>extra_people</th>\n",
              "      <th>minimum_nights</th>\n",
              "      <th>maximum_nights</th>\n",
              "      <th>number_of_reviews</th>\n",
              "      <th>review_scores_rating</th>\n",
              "      <th>review_scores_accuracy</th>\n",
              "      <th>review_scores_cleanliness</th>\n",
              "      <th>review_scores_checkin</th>\n",
              "      <th>review_scores_communication</th>\n",
              "      <th>review_scores_location</th>\n",
              "      <th>review_scores_value</th>\n",
              "      <th>instant_bookable</th>\n",
              "      <th>cancellation_policy</th>\n",
              "      <th>reviews_per_month</th>\n",
              "    </tr>\n",
              "    <tr>\n",
              "      <th>id</th>\n",
              "      <th></th>\n",
              "      <th></th>\n",
              "      <th></th>\n",
              "      <th></th>\n",
              "      <th></th>\n",
              "      <th></th>\n",
              "      <th></th>\n",
              "      <th></th>\n",
              "      <th></th>\n",
              "      <th></th>\n",
              "      <th></th>\n",
              "      <th></th>\n",
              "      <th></th>\n",
              "      <th></th>\n",
              "      <th></th>\n",
              "      <th></th>\n",
              "      <th></th>\n",
              "      <th></th>\n",
              "      <th></th>\n",
              "      <th></th>\n",
              "      <th></th>\n",
              "      <th></th>\n",
              "      <th></th>\n",
              "      <th></th>\n",
              "      <th></th>\n",
              "      <th></th>\n",
              "      <th></th>\n",
              "      <th></th>\n",
              "    </tr>\n",
              "  </thead>\n",
              "  <tbody>\n",
              "    <tr>\n",
              "      <th>1</th>\n",
              "      <td>85</td>\n",
              "      <td>f</td>\n",
              "      <td>2</td>\n",
              "      <td>t</td>\n",
              "      <td>-37.81554</td>\n",
              "      <td>144.96526</td>\n",
              "      <td>Apartment</td>\n",
              "      <td>Private room</td>\n",
              "      <td>4</td>\n",
              "      <td>0.5</td>\n",
              "      <td>1.0</td>\n",
              "      <td>0.0</td>\n",
              "      <td>300.0</td>\n",
              "      <td>11.0</td>\n",
              "      <td>27</td>\n",
              "      <td>1</td>\n",
              "      <td>25</td>\n",
              "      <td>115</td>\n",
              "      <td>98.0</td>\n",
              "      <td>10.0</td>\n",
              "      <td>10.0</td>\n",
              "      <td>10.0</td>\n",
              "      <td>10.0</td>\n",
              "      <td>10.0</td>\n",
              "      <td>10.0</td>\n",
              "      <td>f</td>\n",
              "      <td>strict_14_with_grace_period</td>\n",
              "      <td>3.68</td>\n",
              "    </tr>\n",
              "    <tr>\n",
              "      <th>2</th>\n",
              "      <td>151</td>\n",
              "      <td>f</td>\n",
              "      <td>18</td>\n",
              "      <td>f</td>\n",
              "      <td>-37.91984</td>\n",
              "      <td>145.03395</td>\n",
              "      <td>Apartment</td>\n",
              "      <td>Entire home/apt</td>\n",
              "      <td>6</td>\n",
              "      <td>2.0</td>\n",
              "      <td>2.0</td>\n",
              "      <td>3.0</td>\n",
              "      <td>200.0</td>\n",
              "      <td>120.0</td>\n",
              "      <td>10</td>\n",
              "      <td>1</td>\n",
              "      <td>1125</td>\n",
              "      <td>4</td>\n",
              "      <td>95.0</td>\n",
              "      <td>10.0</td>\n",
              "      <td>9.0</td>\n",
              "      <td>10.0</td>\n",
              "      <td>10.0</td>\n",
              "      <td>10.0</td>\n",
              "      <td>10.0</td>\n",
              "      <td>t</td>\n",
              "      <td>moderate</td>\n",
              "      <td>0.82</td>\n",
              "    </tr>\n",
              "    <tr>\n",
              "      <th>3</th>\n",
              "      <td>188</td>\n",
              "      <td>f</td>\n",
              "      <td>1</td>\n",
              "      <td>t</td>\n",
              "      <td>-37.64818</td>\n",
              "      <td>145.54512</td>\n",
              "      <td>Guesthouse</td>\n",
              "      <td>Entire home/apt</td>\n",
              "      <td>6</td>\n",
              "      <td>1.0</td>\n",
              "      <td>3.0</td>\n",
              "      <td>4.0</td>\n",
              "      <td>0.0</td>\n",
              "      <td>20.0</td>\n",
              "      <td>0</td>\n",
              "      <td>1</td>\n",
              "      <td>1124</td>\n",
              "      <td>200</td>\n",
              "      <td>93.0</td>\n",
              "      <td>9.0</td>\n",
              "      <td>9.0</td>\n",
              "      <td>10.0</td>\n",
              "      <td>10.0</td>\n",
              "      <td>10.0</td>\n",
              "      <td>9.0</td>\n",
              "      <td>t</td>\n",
              "      <td>strict_14_with_grace_period</td>\n",
              "      <td>5.50</td>\n",
              "    </tr>\n",
              "    <tr>\n",
              "      <th>4</th>\n",
              "      <td>200</td>\n",
              "      <td>f</td>\n",
              "      <td>1</td>\n",
              "      <td>t</td>\n",
              "      <td>-37.80245</td>\n",
              "      <td>144.98457</td>\n",
              "      <td>Apartment</td>\n",
              "      <td>Entire home/apt</td>\n",
              "      <td>4</td>\n",
              "      <td>2.5</td>\n",
              "      <td>2.0</td>\n",
              "      <td>2.0</td>\n",
              "      <td>0.0</td>\n",
              "      <td>50.0</td>\n",
              "      <td>0</td>\n",
              "      <td>1</td>\n",
              "      <td>30</td>\n",
              "      <td>3</td>\n",
              "      <td>100.0</td>\n",
              "      <td>10.0</td>\n",
              "      <td>10.0</td>\n",
              "      <td>10.0</td>\n",
              "      <td>10.0</td>\n",
              "      <td>10.0</td>\n",
              "      <td>10.0</td>\n",
              "      <td>t</td>\n",
              "      <td>flexible</td>\n",
              "      <td>0.26</td>\n",
              "    </tr>\n",
              "    <tr>\n",
              "      <th>5</th>\n",
              "      <td>90</td>\n",
              "      <td>t</td>\n",
              "      <td>2</td>\n",
              "      <td>f</td>\n",
              "      <td>-37.81796</td>\n",
              "      <td>144.96541</td>\n",
              "      <td>Apartment</td>\n",
              "      <td>Entire home/apt</td>\n",
              "      <td>2</td>\n",
              "      <td>1.0</td>\n",
              "      <td>1.0</td>\n",
              "      <td>1.0</td>\n",
              "      <td>200.0</td>\n",
              "      <td>45.0</td>\n",
              "      <td>0</td>\n",
              "      <td>1</td>\n",
              "      <td>14</td>\n",
              "      <td>129</td>\n",
              "      <td>98.0</td>\n",
              "      <td>10.0</td>\n",
              "      <td>10.0</td>\n",
              "      <td>10.0</td>\n",
              "      <td>10.0</td>\n",
              "      <td>10.0</td>\n",
              "      <td>10.0</td>\n",
              "      <td>t</td>\n",
              "      <td>strict_14_with_grace_period</td>\n",
              "      <td>8.06</td>\n",
              "    </tr>\n",
              "  </tbody>\n",
              "</table>\n",
              "</div>"
            ],
            "text/plain": [
              "    price host_is_superhost  ...          cancellation_policy reviews_per_month\n",
              "id                           ...                                               \n",
              "1      85                 f  ...  strict_14_with_grace_period              3.68\n",
              "2     151                 f  ...                     moderate              0.82\n",
              "3     188                 f  ...  strict_14_with_grace_period              5.50\n",
              "4     200                 f  ...                     flexible              0.26\n",
              "5      90                 t  ...  strict_14_with_grace_period              8.06\n",
              "\n",
              "[5 rows x 28 columns]"
            ]
          },
          "metadata": {
            "tags": []
          },
          "execution_count": 5
        }
      ]
    },
    {
      "cell_type": "code",
      "metadata": {
        "id": "OmmYt39IyAzO",
        "outputId": "785e18b1-bdaa-4c0f-f809-007998257f27",
        "colab": {
          "base_uri": "https://localhost:8080/",
          "height": 34
        }
      },
      "source": [
        "leaderboard.shape"
      ],
      "execution_count": null,
      "outputs": [
        {
          "output_type": "execute_result",
          "data": {
            "text/plain": [
              "(7000, 27)"
            ]
          },
          "metadata": {
            "tags": []
          },
          "execution_count": 6
        }
      ]
    },
    {
      "cell_type": "code",
      "metadata": {
        "id": "jtA-QpWxyHNJ"
      },
      "source": [
        "data=data.drop([2160,2452,3820,4046,5919], axis=0) #deleting outliers"
      ],
      "execution_count": null,
      "outputs": []
    },
    {
      "cell_type": "code",
      "metadata": {
        "id": "W5vUYWBwyOjZ"
      },
      "source": [
        "data=data.drop([6047,84,3945,4224,5726,2929], axis=0) #deleting outliers "
      ],
      "execution_count": null,
      "outputs": []
    },
    {
      "cell_type": "code",
      "metadata": {
        "id": "kw-p8xMzymIm",
        "outputId": "afacffa9-86cc-4e5d-9742-b0484da092c7",
        "colab": {
          "base_uri": "https://localhost:8080/",
          "height": 136
        }
      },
      "source": [
        "data['price'].nlargest()"
      ],
      "execution_count": null,
      "outputs": [
        {
          "output_type": "execute_result",
          "data": {
            "text/plain": [
              "id\n",
              "1963    5000\n",
              "6028    4445\n",
              "5041    3645\n",
              "95      3400\n",
              "5652    2501\n",
              "Name: price, dtype: int64"
            ]
          },
          "metadata": {
            "tags": []
          },
          "execution_count": 9
        }
      ]
    },
    {
      "cell_type": "code",
      "metadata": {
        "id": "5Baad7GTyzKN",
        "outputId": "be3eebe9-57cf-4caa-a8d9-79f9688c2bd0",
        "colab": {
          "base_uri": "https://localhost:8080/",
          "height": 136
        }
      },
      "source": [
        "data['price'].nsmallest()"
      ],
      "execution_count": null,
      "outputs": [
        {
          "output_type": "execute_result",
          "data": {
            "text/plain": [
              "id\n",
              "1206    13\n",
              "689     14\n",
              "1364    14\n",
              "1983    14\n",
              "2569    18\n",
              "Name: price, dtype: int64"
            ]
          },
          "metadata": {
            "tags": []
          },
          "execution_count": 10
        }
      ]
    },
    {
      "cell_type": "code",
      "metadata": {
        "id": "Tx3zl2Y3y2BD",
        "outputId": "4afff440-8c22-4004-8343-07ac7fcbe004",
        "colab": {
          "base_uri": "https://localhost:8080/",
          "height": 34
        }
      },
      "source": [
        "data.shape"
      ],
      "execution_count": null,
      "outputs": [
        {
          "output_type": "execute_result",
          "data": {
            "text/plain": [
              "(6989, 28)"
            ]
          },
          "metadata": {
            "tags": []
          },
          "execution_count": 11
        }
      ]
    },
    {
      "cell_type": "code",
      "metadata": {
        "id": "ezMufvnyOZq6",
        "outputId": "904fb888-a2a3-484c-db37-aa8cdb834262",
        "colab": {
          "base_uri": "https://localhost:8080/",
          "height": 317
        }
      },
      "source": [
        "data.describe()"
      ],
      "execution_count": null,
      "outputs": [
        {
          "output_type": "execute_result",
          "data": {
            "text/html": [
              "<div>\n",
              "<style scoped>\n",
              "    .dataframe tbody tr th:only-of-type {\n",
              "        vertical-align: middle;\n",
              "    }\n",
              "\n",
              "    .dataframe tbody tr th {\n",
              "        vertical-align: top;\n",
              "    }\n",
              "\n",
              "    .dataframe thead th {\n",
              "        text-align: right;\n",
              "    }\n",
              "</style>\n",
              "<table border=\"1\" class=\"dataframe\">\n",
              "  <thead>\n",
              "    <tr style=\"text-align: right;\">\n",
              "      <th></th>\n",
              "      <th>price</th>\n",
              "      <th>host_total_listings_count</th>\n",
              "      <th>latitude</th>\n",
              "      <th>longitude</th>\n",
              "      <th>accommodates</th>\n",
              "      <th>bathrooms</th>\n",
              "      <th>bedrooms</th>\n",
              "      <th>beds</th>\n",
              "      <th>security_deposit</th>\n",
              "      <th>cleaning_fee</th>\n",
              "      <th>extra_people</th>\n",
              "      <th>minimum_nights</th>\n",
              "      <th>maximum_nights</th>\n",
              "      <th>number_of_reviews</th>\n",
              "      <th>review_scores_rating</th>\n",
              "      <th>review_scores_accuracy</th>\n",
              "      <th>review_scores_cleanliness</th>\n",
              "      <th>review_scores_checkin</th>\n",
              "      <th>review_scores_communication</th>\n",
              "      <th>review_scores_location</th>\n",
              "      <th>review_scores_value</th>\n",
              "      <th>reviews_per_month</th>\n",
              "    </tr>\n",
              "  </thead>\n",
              "  <tbody>\n",
              "    <tr>\n",
              "      <th>count</th>\n",
              "      <td>6989.000000</td>\n",
              "      <td>6989.000000</td>\n",
              "      <td>6989.000000</td>\n",
              "      <td>6989.000000</td>\n",
              "      <td>6989.000000</td>\n",
              "      <td>6982.000000</td>\n",
              "      <td>6988.000000</td>\n",
              "      <td>6986.00000</td>\n",
              "      <td>5072.000000</td>\n",
              "      <td>5599.000000</td>\n",
              "      <td>6989.000000</td>\n",
              "      <td>6989.000000</td>\n",
              "      <td>6989.000000</td>\n",
              "      <td>6989.000000</td>\n",
              "      <td>5641.000000</td>\n",
              "      <td>5633.000000</td>\n",
              "      <td>5637.000000</td>\n",
              "      <td>5630.000000</td>\n",
              "      <td>5635.000000</td>\n",
              "      <td>5631.000000</td>\n",
              "      <td>5629.000000</td>\n",
              "      <td>5763.000000</td>\n",
              "    </tr>\n",
              "    <tr>\n",
              "      <th>mean</th>\n",
              "      <td>152.192588</td>\n",
              "      <td>10.479611</td>\n",
              "      <td>-37.826114</td>\n",
              "      <td>145.009923</td>\n",
              "      <td>3.545858</td>\n",
              "      <td>1.297551</td>\n",
              "      <td>1.563108</td>\n",
              "      <td>2.03049</td>\n",
              "      <td>312.492902</td>\n",
              "      <td>67.685658</td>\n",
              "      <td>13.400343</td>\n",
              "      <td>4.068250</td>\n",
              "      <td>814.036057</td>\n",
              "      <td>24.890113</td>\n",
              "      <td>94.133842</td>\n",
              "      <td>9.642109</td>\n",
              "      <td>9.388682</td>\n",
              "      <td>9.712789</td>\n",
              "      <td>9.745164</td>\n",
              "      <td>9.743918</td>\n",
              "      <td>9.464914</td>\n",
              "      <td>1.641468</td>\n",
              "    </tr>\n",
              "    <tr>\n",
              "      <th>std</th>\n",
              "      <td>180.129647</td>\n",
              "      <td>25.427345</td>\n",
              "      <td>0.066293</td>\n",
              "      <td>0.129920</td>\n",
              "      <td>2.217384</td>\n",
              "      <td>0.575248</td>\n",
              "      <td>0.960294</td>\n",
              "      <td>1.52744</td>\n",
              "      <td>489.559789</td>\n",
              "      <td>60.421771</td>\n",
              "      <td>21.546139</td>\n",
              "      <td>28.094743</td>\n",
              "      <td>8785.371742</td>\n",
              "      <td>42.965947</td>\n",
              "      <td>8.354469</td>\n",
              "      <td>0.802881</td>\n",
              "      <td>0.994966</td>\n",
              "      <td>0.726693</td>\n",
              "      <td>0.727771</td>\n",
              "      <td>0.633680</td>\n",
              "      <td>0.865750</td>\n",
              "      <td>1.711439</td>\n",
              "    </tr>\n",
              "    <tr>\n",
              "      <th>min</th>\n",
              "      <td>13.000000</td>\n",
              "      <td>0.000000</td>\n",
              "      <td>-38.224430</td>\n",
              "      <td>144.532590</td>\n",
              "      <td>1.000000</td>\n",
              "      <td>0.000000</td>\n",
              "      <td>0.000000</td>\n",
              "      <td>0.00000</td>\n",
              "      <td>0.000000</td>\n",
              "      <td>0.000000</td>\n",
              "      <td>0.000000</td>\n",
              "      <td>1.000000</td>\n",
              "      <td>1.000000</td>\n",
              "      <td>0.000000</td>\n",
              "      <td>20.000000</td>\n",
              "      <td>2.000000</td>\n",
              "      <td>2.000000</td>\n",
              "      <td>2.000000</td>\n",
              "      <td>2.000000</td>\n",
              "      <td>2.000000</td>\n",
              "      <td>2.000000</td>\n",
              "      <td>0.020000</td>\n",
              "    </tr>\n",
              "    <tr>\n",
              "      <th>25%</th>\n",
              "      <td>75.000000</td>\n",
              "      <td>1.000000</td>\n",
              "      <td>-37.850720</td>\n",
              "      <td>144.957890</td>\n",
              "      <td>2.000000</td>\n",
              "      <td>1.000000</td>\n",
              "      <td>1.000000</td>\n",
              "      <td>1.00000</td>\n",
              "      <td>0.000000</td>\n",
              "      <td>28.000000</td>\n",
              "      <td>0.000000</td>\n",
              "      <td>1.000000</td>\n",
              "      <td>40.000000</td>\n",
              "      <td>1.000000</td>\n",
              "      <td>92.000000</td>\n",
              "      <td>9.000000</td>\n",
              "      <td>9.000000</td>\n",
              "      <td>10.000000</td>\n",
              "      <td>10.000000</td>\n",
              "      <td>10.000000</td>\n",
              "      <td>9.000000</td>\n",
              "      <td>0.330000</td>\n",
              "    </tr>\n",
              "    <tr>\n",
              "      <th>50%</th>\n",
              "      <td>119.000000</td>\n",
              "      <td>2.000000</td>\n",
              "      <td>-37.817690</td>\n",
              "      <td>144.977400</td>\n",
              "      <td>3.000000</td>\n",
              "      <td>1.000000</td>\n",
              "      <td>1.000000</td>\n",
              "      <td>2.00000</td>\n",
              "      <td>200.000000</td>\n",
              "      <td>60.000000</td>\n",
              "      <td>0.000000</td>\n",
              "      <td>2.000000</td>\n",
              "      <td>1125.000000</td>\n",
              "      <td>7.000000</td>\n",
              "      <td>96.000000</td>\n",
              "      <td>10.000000</td>\n",
              "      <td>10.000000</td>\n",
              "      <td>10.000000</td>\n",
              "      <td>10.000000</td>\n",
              "      <td>10.000000</td>\n",
              "      <td>10.000000</td>\n",
              "      <td>1.050000</td>\n",
              "    </tr>\n",
              "    <tr>\n",
              "      <th>75%</th>\n",
              "      <td>171.000000</td>\n",
              "      <td>5.000000</td>\n",
              "      <td>-37.803490</td>\n",
              "      <td>145.009340</td>\n",
              "      <td>4.000000</td>\n",
              "      <td>1.500000</td>\n",
              "      <td>2.000000</td>\n",
              "      <td>2.00000</td>\n",
              "      <td>400.000000</td>\n",
              "      <td>90.000000</td>\n",
              "      <td>20.000000</td>\n",
              "      <td>3.000000</td>\n",
              "      <td>1125.000000</td>\n",
              "      <td>29.000000</td>\n",
              "      <td>100.000000</td>\n",
              "      <td>10.000000</td>\n",
              "      <td>10.000000</td>\n",
              "      <td>10.000000</td>\n",
              "      <td>10.000000</td>\n",
              "      <td>10.000000</td>\n",
              "      <td>10.000000</td>\n",
              "      <td>2.370000</td>\n",
              "    </tr>\n",
              "    <tr>\n",
              "      <th>max</th>\n",
              "      <td>5000.000000</td>\n",
              "      <td>294.000000</td>\n",
              "      <td>-37.484830</td>\n",
              "      <td>145.839130</td>\n",
              "      <td>16.000000</td>\n",
              "      <td>9.500000</td>\n",
              "      <td>16.000000</td>\n",
              "      <td>22.00000</td>\n",
              "      <td>6958.000000</td>\n",
              "      <td>668.000000</td>\n",
              "      <td>418.000000</td>\n",
              "      <td>1120.000000</td>\n",
              "      <td>730365.000000</td>\n",
              "      <td>563.000000</td>\n",
              "      <td>100.000000</td>\n",
              "      <td>10.000000</td>\n",
              "      <td>10.000000</td>\n",
              "      <td>10.000000</td>\n",
              "      <td>10.000000</td>\n",
              "      <td>10.000000</td>\n",
              "      <td>10.000000</td>\n",
              "      <td>13.750000</td>\n",
              "    </tr>\n",
              "  </tbody>\n",
              "</table>\n",
              "</div>"
            ],
            "text/plain": [
              "             price  ...  reviews_per_month\n",
              "count  6989.000000  ...        5763.000000\n",
              "mean    152.192588  ...           1.641468\n",
              "std     180.129647  ...           1.711439\n",
              "min      13.000000  ...           0.020000\n",
              "25%      75.000000  ...           0.330000\n",
              "50%     119.000000  ...           1.050000\n",
              "75%     171.000000  ...           2.370000\n",
              "max    5000.000000  ...          13.750000\n",
              "\n",
              "[8 rows x 22 columns]"
            ]
          },
          "metadata": {
            "tags": []
          },
          "execution_count": 12
        }
      ]
    },
    {
      "cell_type": "code",
      "metadata": {
        "id": "pLNN27T8Olj8",
        "outputId": "11590725-c1a2-446d-84ae-039fb6b991e5",
        "colab": {
          "base_uri": "https://localhost:8080/",
          "height": 136
        }
      },
      "source": [
        "data['maximum_nights'].nlargest()"
      ],
      "execution_count": null,
      "outputs": [
        {
          "output_type": "execute_result",
          "data": {
            "text/plain": [
              "id\n",
              "722     730365\n",
              "1906     70000\n",
              "1611     10000\n",
              "2094     10000\n",
              "6387     10000\n",
              "Name: maximum_nights, dtype: int64"
            ]
          },
          "metadata": {
            "tags": []
          },
          "execution_count": 13
        }
      ]
    },
    {
      "cell_type": "code",
      "metadata": {
        "id": "-CtjPsynO2FH",
        "outputId": "1a1b13d7-94ca-4aae-a2e0-ca40f351015a",
        "colab": {
          "base_uri": "https://localhost:8080/",
          "height": 136
        }
      },
      "source": [
        "data['maximum_nights'].nlargest()"
      ],
      "execution_count": null,
      "outputs": [
        {
          "output_type": "execute_result",
          "data": {
            "text/plain": [
              "id\n",
              "722     730365\n",
              "1906     70000\n",
              "1611     10000\n",
              "2094     10000\n",
              "6387     10000\n",
              "Name: maximum_nights, dtype: int64"
            ]
          },
          "metadata": {
            "tags": []
          },
          "execution_count": 14
        }
      ]
    },
    {
      "cell_type": "code",
      "metadata": {
        "id": "ACgrgdjBOw3m"
      },
      "source": [
        "data=data.drop(722, axis=0) #722 contains a sort of typo (730365) => deleting it"
      ],
      "execution_count": null,
      "outputs": []
    },
    {
      "cell_type": "code",
      "metadata": {
        "id": "GmAeQ6JhPEO7",
        "outputId": "6663e35a-9bce-4e09-e1b6-fb5016917620",
        "colab": {
          "base_uri": "https://localhost:8080/",
          "height": 136
        }
      },
      "source": [
        "data['minimum_nights'].nlargest()"
      ],
      "execution_count": null,
      "outputs": [
        {
          "output_type": "execute_result",
          "data": {
            "text/plain": [
              "id\n",
              "996     1120\n",
              "1920    1000\n",
              "4343    1000\n",
              "5786    1000\n",
              "515      500\n",
              "Name: minimum_nights, dtype: int64"
            ]
          },
          "metadata": {
            "tags": []
          },
          "execution_count": 16
        }
      ]
    },
    {
      "cell_type": "code",
      "metadata": {
        "id": "jDU4iHUbjeoX",
        "outputId": "b6c04b8a-be3d-406f-902f-d652beb462ab",
        "colab": {
          "base_uri": "https://localhost:8080/",
          "height": 1000
        }
      },
      "source": [
        "data.groupby('property_type')['price'].describe().round(2)"
      ],
      "execution_count": null,
      "outputs": [
        {
          "output_type": "execute_result",
          "data": {
            "text/html": [
              "<div>\n",
              "<style scoped>\n",
              "    .dataframe tbody tr th:only-of-type {\n",
              "        vertical-align: middle;\n",
              "    }\n",
              "\n",
              "    .dataframe tbody tr th {\n",
              "        vertical-align: top;\n",
              "    }\n",
              "\n",
              "    .dataframe thead th {\n",
              "        text-align: right;\n",
              "    }\n",
              "</style>\n",
              "<table border=\"1\" class=\"dataframe\">\n",
              "  <thead>\n",
              "    <tr style=\"text-align: right;\">\n",
              "      <th></th>\n",
              "      <th>count</th>\n",
              "      <th>mean</th>\n",
              "      <th>std</th>\n",
              "      <th>min</th>\n",
              "      <th>25%</th>\n",
              "      <th>50%</th>\n",
              "      <th>75%</th>\n",
              "      <th>max</th>\n",
              "    </tr>\n",
              "    <tr>\n",
              "      <th>property_type</th>\n",
              "      <th></th>\n",
              "      <th></th>\n",
              "      <th></th>\n",
              "      <th></th>\n",
              "      <th></th>\n",
              "      <th></th>\n",
              "      <th></th>\n",
              "      <th></th>\n",
              "    </tr>\n",
              "  </thead>\n",
              "  <tbody>\n",
              "    <tr>\n",
              "      <th>Aparthotel</th>\n",
              "      <td>3.0</td>\n",
              "      <td>164.33</td>\n",
              "      <td>17.47</td>\n",
              "      <td>145.0</td>\n",
              "      <td>157.00</td>\n",
              "      <td>169.0</td>\n",
              "      <td>174.00</td>\n",
              "      <td>179.0</td>\n",
              "    </tr>\n",
              "    <tr>\n",
              "      <th>Apartment</th>\n",
              "      <td>3982.0</td>\n",
              "      <td>144.39</td>\n",
              "      <td>146.57</td>\n",
              "      <td>18.0</td>\n",
              "      <td>90.00</td>\n",
              "      <td>119.0</td>\n",
              "      <td>161.00</td>\n",
              "      <td>5000.0</td>\n",
              "    </tr>\n",
              "    <tr>\n",
              "      <th>Bed and breakfast</th>\n",
              "      <td>79.0</td>\n",
              "      <td>155.52</td>\n",
              "      <td>181.83</td>\n",
              "      <td>26.0</td>\n",
              "      <td>72.00</td>\n",
              "      <td>135.0</td>\n",
              "      <td>176.50</td>\n",
              "      <td>1601.0</td>\n",
              "    </tr>\n",
              "    <tr>\n",
              "      <th>Boat</th>\n",
              "      <td>2.0</td>\n",
              "      <td>279.00</td>\n",
              "      <td>240.42</td>\n",
              "      <td>109.0</td>\n",
              "      <td>194.00</td>\n",
              "      <td>279.0</td>\n",
              "      <td>364.00</td>\n",
              "      <td>449.0</td>\n",
              "    </tr>\n",
              "    <tr>\n",
              "      <th>Boutique hotel</th>\n",
              "      <td>5.0</td>\n",
              "      <td>154.80</td>\n",
              "      <td>85.69</td>\n",
              "      <td>85.0</td>\n",
              "      <td>109.00</td>\n",
              "      <td>119.0</td>\n",
              "      <td>161.00</td>\n",
              "      <td>300.0</td>\n",
              "    </tr>\n",
              "    <tr>\n",
              "      <th>Bungalow</th>\n",
              "      <td>40.0</td>\n",
              "      <td>102.22</td>\n",
              "      <td>53.17</td>\n",
              "      <td>28.0</td>\n",
              "      <td>65.00</td>\n",
              "      <td>89.0</td>\n",
              "      <td>129.00</td>\n",
              "      <td>270.0</td>\n",
              "    </tr>\n",
              "    <tr>\n",
              "      <th>Cabin</th>\n",
              "      <td>16.0</td>\n",
              "      <td>155.31</td>\n",
              "      <td>68.60</td>\n",
              "      <td>55.0</td>\n",
              "      <td>113.00</td>\n",
              "      <td>151.0</td>\n",
              "      <td>193.25</td>\n",
              "      <td>280.0</td>\n",
              "    </tr>\n",
              "    <tr>\n",
              "      <th>Camper/RV</th>\n",
              "      <td>4.0</td>\n",
              "      <td>62.00</td>\n",
              "      <td>27.80</td>\n",
              "      <td>38.0</td>\n",
              "      <td>43.25</td>\n",
              "      <td>55.0</td>\n",
              "      <td>73.75</td>\n",
              "      <td>100.0</td>\n",
              "    </tr>\n",
              "    <tr>\n",
              "      <th>Campsite</th>\n",
              "      <td>4.0</td>\n",
              "      <td>26.00</td>\n",
              "      <td>0.00</td>\n",
              "      <td>26.0</td>\n",
              "      <td>26.00</td>\n",
              "      <td>26.0</td>\n",
              "      <td>26.00</td>\n",
              "      <td>26.0</td>\n",
              "    </tr>\n",
              "    <tr>\n",
              "      <th>Chalet</th>\n",
              "      <td>1.0</td>\n",
              "      <td>105.00</td>\n",
              "      <td>NaN</td>\n",
              "      <td>105.0</td>\n",
              "      <td>105.00</td>\n",
              "      <td>105.0</td>\n",
              "      <td>105.00</td>\n",
              "      <td>105.0</td>\n",
              "    </tr>\n",
              "    <tr>\n",
              "      <th>Condominium</th>\n",
              "      <td>168.0</td>\n",
              "      <td>143.69</td>\n",
              "      <td>88.22</td>\n",
              "      <td>26.0</td>\n",
              "      <td>86.50</td>\n",
              "      <td>122.0</td>\n",
              "      <td>181.00</td>\n",
              "      <td>550.0</td>\n",
              "    </tr>\n",
              "    <tr>\n",
              "      <th>Cottage</th>\n",
              "      <td>52.0</td>\n",
              "      <td>206.19</td>\n",
              "      <td>93.23</td>\n",
              "      <td>36.0</td>\n",
              "      <td>148.00</td>\n",
              "      <td>190.0</td>\n",
              "      <td>251.75</td>\n",
              "      <td>564.0</td>\n",
              "    </tr>\n",
              "    <tr>\n",
              "      <th>Earth house</th>\n",
              "      <td>4.0</td>\n",
              "      <td>98.25</td>\n",
              "      <td>33.60</td>\n",
              "      <td>65.0</td>\n",
              "      <td>72.50</td>\n",
              "      <td>96.5</td>\n",
              "      <td>122.25</td>\n",
              "      <td>135.0</td>\n",
              "    </tr>\n",
              "    <tr>\n",
              "      <th>Farm stay</th>\n",
              "      <td>16.0</td>\n",
              "      <td>224.62</td>\n",
              "      <td>180.32</td>\n",
              "      <td>55.0</td>\n",
              "      <td>110.50</td>\n",
              "      <td>166.0</td>\n",
              "      <td>262.75</td>\n",
              "      <td>699.0</td>\n",
              "    </tr>\n",
              "    <tr>\n",
              "      <th>Guest suite</th>\n",
              "      <td>81.0</td>\n",
              "      <td>102.83</td>\n",
              "      <td>66.24</td>\n",
              "      <td>33.0</td>\n",
              "      <td>75.00</td>\n",
              "      <td>90.0</td>\n",
              "      <td>118.00</td>\n",
              "      <td>600.0</td>\n",
              "    </tr>\n",
              "    <tr>\n",
              "      <th>Guesthouse</th>\n",
              "      <td>87.0</td>\n",
              "      <td>123.43</td>\n",
              "      <td>191.10</td>\n",
              "      <td>20.0</td>\n",
              "      <td>80.00</td>\n",
              "      <td>90.0</td>\n",
              "      <td>116.00</td>\n",
              "      <td>1830.0</td>\n",
              "    </tr>\n",
              "    <tr>\n",
              "      <th>Hostel</th>\n",
              "      <td>13.0</td>\n",
              "      <td>58.46</td>\n",
              "      <td>25.02</td>\n",
              "      <td>14.0</td>\n",
              "      <td>50.00</td>\n",
              "      <td>65.0</td>\n",
              "      <td>80.00</td>\n",
              "      <td>85.0</td>\n",
              "    </tr>\n",
              "    <tr>\n",
              "      <th>Hotel</th>\n",
              "      <td>7.0</td>\n",
              "      <td>113.43</td>\n",
              "      <td>25.45</td>\n",
              "      <td>80.0</td>\n",
              "      <td>97.50</td>\n",
              "      <td>108.0</td>\n",
              "      <td>130.00</td>\n",
              "      <td>151.0</td>\n",
              "    </tr>\n",
              "    <tr>\n",
              "      <th>House</th>\n",
              "      <td>1687.0</td>\n",
              "      <td>169.01</td>\n",
              "      <td>253.42</td>\n",
              "      <td>14.0</td>\n",
              "      <td>50.00</td>\n",
              "      <td>90.0</td>\n",
              "      <td>200.00</td>\n",
              "      <td>4445.0</td>\n",
              "    </tr>\n",
              "    <tr>\n",
              "      <th>Hut</th>\n",
              "      <td>1.0</td>\n",
              "      <td>100.00</td>\n",
              "      <td>NaN</td>\n",
              "      <td>100.0</td>\n",
              "      <td>100.00</td>\n",
              "      <td>100.0</td>\n",
              "      <td>100.00</td>\n",
              "      <td>100.0</td>\n",
              "    </tr>\n",
              "    <tr>\n",
              "      <th>Loft</th>\n",
              "      <td>67.0</td>\n",
              "      <td>155.78</td>\n",
              "      <td>97.34</td>\n",
              "      <td>40.0</td>\n",
              "      <td>98.50</td>\n",
              "      <td>128.0</td>\n",
              "      <td>190.00</td>\n",
              "      <td>600.0</td>\n",
              "    </tr>\n",
              "    <tr>\n",
              "      <th>Nature lodge</th>\n",
              "      <td>1.0</td>\n",
              "      <td>451.00</td>\n",
              "      <td>NaN</td>\n",
              "      <td>451.0</td>\n",
              "      <td>451.00</td>\n",
              "      <td>451.0</td>\n",
              "      <td>451.00</td>\n",
              "      <td>451.0</td>\n",
              "    </tr>\n",
              "    <tr>\n",
              "      <th>Other</th>\n",
              "      <td>15.0</td>\n",
              "      <td>243.67</td>\n",
              "      <td>403.85</td>\n",
              "      <td>26.0</td>\n",
              "      <td>58.00</td>\n",
              "      <td>129.0</td>\n",
              "      <td>212.50</td>\n",
              "      <td>1650.0</td>\n",
              "    </tr>\n",
              "    <tr>\n",
              "      <th>Resort</th>\n",
              "      <td>1.0</td>\n",
              "      <td>135.00</td>\n",
              "      <td>NaN</td>\n",
              "      <td>135.0</td>\n",
              "      <td>135.00</td>\n",
              "      <td>135.0</td>\n",
              "      <td>135.00</td>\n",
              "      <td>135.0</td>\n",
              "    </tr>\n",
              "    <tr>\n",
              "      <th>Serviced apartment</th>\n",
              "      <td>130.0</td>\n",
              "      <td>204.85</td>\n",
              "      <td>148.76</td>\n",
              "      <td>30.0</td>\n",
              "      <td>126.00</td>\n",
              "      <td>167.5</td>\n",
              "      <td>200.00</td>\n",
              "      <td>799.0</td>\n",
              "    </tr>\n",
              "    <tr>\n",
              "      <th>Tent</th>\n",
              "      <td>4.0</td>\n",
              "      <td>122.25</td>\n",
              "      <td>57.50</td>\n",
              "      <td>36.0</td>\n",
              "      <td>122.25</td>\n",
              "      <td>151.0</td>\n",
              "      <td>151.00</td>\n",
              "      <td>151.0</td>\n",
              "    </tr>\n",
              "    <tr>\n",
              "      <th>Tiny house</th>\n",
              "      <td>11.0</td>\n",
              "      <td>121.64</td>\n",
              "      <td>49.79</td>\n",
              "      <td>33.0</td>\n",
              "      <td>91.50</td>\n",
              "      <td>119.0</td>\n",
              "      <td>163.00</td>\n",
              "      <td>199.0</td>\n",
              "    </tr>\n",
              "    <tr>\n",
              "      <th>Townhouse</th>\n",
              "      <td>435.0</td>\n",
              "      <td>145.46</td>\n",
              "      <td>126.68</td>\n",
              "      <td>13.0</td>\n",
              "      <td>60.00</td>\n",
              "      <td>105.0</td>\n",
              "      <td>182.50</td>\n",
              "      <td>807.0</td>\n",
              "    </tr>\n",
              "    <tr>\n",
              "      <th>Treehouse</th>\n",
              "      <td>1.0</td>\n",
              "      <td>800.00</td>\n",
              "      <td>NaN</td>\n",
              "      <td>800.0</td>\n",
              "      <td>800.00</td>\n",
              "      <td>800.0</td>\n",
              "      <td>800.00</td>\n",
              "      <td>800.0</td>\n",
              "    </tr>\n",
              "    <tr>\n",
              "      <th>Villa</th>\n",
              "      <td>71.0</td>\n",
              "      <td>219.80</td>\n",
              "      <td>350.87</td>\n",
              "      <td>36.0</td>\n",
              "      <td>61.50</td>\n",
              "      <td>90.0</td>\n",
              "      <td>243.50</td>\n",
              "      <td>2380.0</td>\n",
              "    </tr>\n",
              "  </tbody>\n",
              "</table>\n",
              "</div>"
            ],
            "text/plain": [
              "                     count    mean     std  ...    50%     75%     max\n",
              "property_type                               ...                       \n",
              "Aparthotel             3.0  164.33   17.47  ...  169.0  174.00   179.0\n",
              "Apartment           3982.0  144.39  146.57  ...  119.0  161.00  5000.0\n",
              "Bed and breakfast     79.0  155.52  181.83  ...  135.0  176.50  1601.0\n",
              "Boat                   2.0  279.00  240.42  ...  279.0  364.00   449.0\n",
              "Boutique hotel         5.0  154.80   85.69  ...  119.0  161.00   300.0\n",
              "Bungalow              40.0  102.22   53.17  ...   89.0  129.00   270.0\n",
              "Cabin                 16.0  155.31   68.60  ...  151.0  193.25   280.0\n",
              "Camper/RV              4.0   62.00   27.80  ...   55.0   73.75   100.0\n",
              "Campsite               4.0   26.00    0.00  ...   26.0   26.00    26.0\n",
              "Chalet                 1.0  105.00     NaN  ...  105.0  105.00   105.0\n",
              "Condominium          168.0  143.69   88.22  ...  122.0  181.00   550.0\n",
              "Cottage               52.0  206.19   93.23  ...  190.0  251.75   564.0\n",
              "Earth house            4.0   98.25   33.60  ...   96.5  122.25   135.0\n",
              "Farm stay             16.0  224.62  180.32  ...  166.0  262.75   699.0\n",
              "Guest suite           81.0  102.83   66.24  ...   90.0  118.00   600.0\n",
              "Guesthouse            87.0  123.43  191.10  ...   90.0  116.00  1830.0\n",
              "Hostel                13.0   58.46   25.02  ...   65.0   80.00    85.0\n",
              "Hotel                  7.0  113.43   25.45  ...  108.0  130.00   151.0\n",
              "House               1687.0  169.01  253.42  ...   90.0  200.00  4445.0\n",
              "Hut                    1.0  100.00     NaN  ...  100.0  100.00   100.0\n",
              "Loft                  67.0  155.78   97.34  ...  128.0  190.00   600.0\n",
              "Nature lodge           1.0  451.00     NaN  ...  451.0  451.00   451.0\n",
              "Other                 15.0  243.67  403.85  ...  129.0  212.50  1650.0\n",
              "Resort                 1.0  135.00     NaN  ...  135.0  135.00   135.0\n",
              "Serviced apartment   130.0  204.85  148.76  ...  167.5  200.00   799.0\n",
              "Tent                   4.0  122.25   57.50  ...  151.0  151.00   151.0\n",
              "Tiny house            11.0  121.64   49.79  ...  119.0  163.00   199.0\n",
              "Townhouse            435.0  145.46  126.68  ...  105.0  182.50   807.0\n",
              "Treehouse              1.0  800.00     NaN  ...  800.0  800.00   800.0\n",
              "Villa                 71.0  219.80  350.87  ...   90.0  243.50  2380.0\n",
              "\n",
              "[30 rows x 8 columns]"
            ]
          },
          "metadata": {
            "tags": []
          },
          "execution_count": 17
        }
      ]
    },
    {
      "cell_type": "markdown",
      "metadata": {
        "id": "yHIfEmRizSyK"
      },
      "source": [
        "Splitting the data into training (70%) and test sets (30%)."
      ]
    },
    {
      "cell_type": "markdown",
      "metadata": {
        "id": "iv1A7JyCDrTq"
      },
      "source": [
        "# EDA"
      ]
    },
    {
      "cell_type": "code",
      "metadata": {
        "id": "qiUKQN7gDu0h",
        "outputId": "ecb229f7-4e7c-4ea8-80f6-28e415aa6b25",
        "colab": {
          "base_uri": "https://localhost:8080/",
          "height": 283
        }
      },
      "source": [
        "sns.distplot(data['price'])\n",
        "plt.show()"
      ],
      "execution_count": null,
      "outputs": [
        {
          "output_type": "display_data",
          "data": {
            "image/png": "[encoded data removed]",
            "text/plain": [
              "<Figure size 432x288 with 1 Axes>"
            ]
          },
          "metadata": {
            "tags": []
          }
        }
      ]
    },
    {
      "cell_type": "code",
      "metadata": {
        "id": "gVfITaYDDxpF"
      },
      "source": [
        "data['log_price'] = np.log(data['price'])"
      ],
      "execution_count": null,
      "outputs": []
    },
    {
      "cell_type": "code",
      "metadata": {
        "id": "2Ld2XvMGEEk7",
        "outputId": "d88e731f-86b9-4453-bcc5-634da0e5a269",
        "colab": {
          "base_uri": "https://localhost:8080/",
          "height": 284
        }
      },
      "source": [
        "sns.distplot(data['log_price'])\n",
        "plt.show()"
      ],
      "execution_count": null,
      "outputs": [
        {
          "output_type": "display_data",
          "data": {
            "image/png": "[encoded data removed]",
            "text/plain": [
              "<Figure size 432x288 with 1 Axes>"
            ]
          },
          "metadata": {
            "tags": []
          }
        }
      ]
    },
    {
      "cell_type": "code",
      "metadata": {
        "id": "K_Ff_tvQzKnN"
      },
      "source": [
        "# Randomly split indexes\n",
        "index_train, index_test  = train_test_split(np.array(data.index), train_size=0.7, random_state=5)\n",
        "\n",
        "# Write training and test sets for model selection. \n",
        "train = data.loc[index_train,:].copy()\n",
        "test =  data.loc[index_test,:].copy()"
      ],
      "execution_count": null,
      "outputs": []
    },
    {
      "cell_type": "code",
      "metadata": {
        "id": "HUpNDPEwzYzn",
        "outputId": "b96fb8d2-923b-4eb6-f948-87065209f9e3",
        "colab": {
          "base_uri": "https://localhost:8080/",
          "height": 272
        }
      },
      "source": [
        "def prepare_data(df):\n",
        "    df['host_is_superhost']=(df['host_is_superhost'] =='t').astype(int) \n",
        "    \n",
        "    df['host_identity_verified']=(df['host_identity_verified'] =='t').astype(int)\n",
        "    \n",
        "    df['instant_bookable']=(df['instant_bookable'] =='t').astype(int)\n",
        "    # cancellation_policy\n",
        "    df['flexible']=(df['cancellation_policy'] =='flexible').astype(int)\n",
        "    df['moderate']=(df['cancellation_policy'] =='moderate').astype(int)\n",
        "    df['strict_14_with_grace_period']=(df['cancellation_policy'] =='strict_14_with_grace_period').astype(int)\n",
        "    # room_type  \n",
        "    df['Private room']=(df['room_type'] =='Private room').astype(int)\n",
        "    df['Entire home/apt']=(df['room_type'] =='Entire home/apt').astype(int)\n",
        "    # property_type\n",
        "    # Property type. All types with count less than 20 are treated as Other\n",
        "    df['property_apt']=(df['property_type'] =='Apartment').astype(int)\n",
        "    df['property_bnb']=(df['property_type'] =='Bed and breakfast').astype(int)\n",
        "    df['property_bungalow']=(df['property_type'] =='Bungalow').astype(int)\n",
        "    df['property_condominium']=(df['property_type'] =='Condominium').astype(int)\n",
        "    df['property_cottage']=(df['property_type'] =='Cottage').astype(int)\n",
        "    df['property_guest_house']=(df['property_type'] =='Guesthouse').astype(int)\n",
        "    df['property_guest_suite']=(df['property_type'] =='Guest suite').astype(int)\n",
        "    df['property_house']=(df['property_type'] =='House').astype(int)\n",
        "    df['property_loft']=(df['property_type'] =='Loft').astype(int)\n",
        "    df['property_serviced_apt']=(df['property_type'] =='Serviced apartment').astype(int)\n",
        "    df['property_townhouse']=(df['property_type'] =='Townhouse').astype(int)\n",
        "    df['property_villa']=(df['property_type'] =='Villa').astype(int)\n",
        "\n",
        "    \n",
        "    df = df.fillna(0) # replace all NaNs with zeros\n",
        "    df=df.loc[:, df.dtypes!='object'] # discards the columns that are not numerical\n",
        "    return df\n",
        "    \n",
        "train = prepare_data(train)\n",
        "test = prepare_data(test)\n",
        "leaderboard = prepare_data(leaderboard)\n",
        "   \n",
        "train.head()    "
      ],
      "execution_count": null,
      "outputs": [
        {
          "output_type": "execute_result",
          "data": {
            "text/html": [
              "<div>\n",
              "<style scoped>\n",
              "    .dataframe tbody tr th:only-of-type {\n",
              "        vertical-align: middle;\n",
              "    }\n",
              "\n",
              "    .dataframe tbody tr th {\n",
              "        vertical-align: top;\n",
              "    }\n",
              "\n",
              "    .dataframe thead th {\n",
              "        text-align: right;\n",
              "    }\n",
              "</style>\n",
              "<table border=\"1\" class=\"dataframe\">\n",
              "  <thead>\n",
              "    <tr style=\"text-align: right;\">\n",
              "      <th></th>\n",
              "      <th>price</th>\n",
              "      <th>host_is_superhost</th>\n",
              "      <th>host_total_listings_count</th>\n",
              "      <th>host_identity_verified</th>\n",
              "      <th>latitude</th>\n",
              "      <th>longitude</th>\n",
              "      <th>accommodates</th>\n",
              "      <th>bathrooms</th>\n",
              "      <th>bedrooms</th>\n",
              "      <th>beds</th>\n",
              "      <th>security_deposit</th>\n",
              "      <th>cleaning_fee</th>\n",
              "      <th>extra_people</th>\n",
              "      <th>minimum_nights</th>\n",
              "      <th>maximum_nights</th>\n",
              "      <th>number_of_reviews</th>\n",
              "      <th>review_scores_rating</th>\n",
              "      <th>review_scores_accuracy</th>\n",
              "      <th>review_scores_cleanliness</th>\n",
              "      <th>review_scores_checkin</th>\n",
              "      <th>review_scores_communication</th>\n",
              "      <th>review_scores_location</th>\n",
              "      <th>review_scores_value</th>\n",
              "      <th>instant_bookable</th>\n",
              "      <th>reviews_per_month</th>\n",
              "      <th>log_price</th>\n",
              "      <th>flexible</th>\n",
              "      <th>moderate</th>\n",
              "      <th>strict_14_with_grace_period</th>\n",
              "      <th>Private room</th>\n",
              "      <th>Entire home/apt</th>\n",
              "      <th>property_apt</th>\n",
              "      <th>property_bnb</th>\n",
              "      <th>property_bungalow</th>\n",
              "      <th>property_condominium</th>\n",
              "      <th>property_cottage</th>\n",
              "      <th>property_guest_house</th>\n",
              "      <th>property_guest_suite</th>\n",
              "      <th>property_house</th>\n",
              "      <th>property_loft</th>\n",
              "      <th>property_serviced_apt</th>\n",
              "      <th>property_townhouse</th>\n",
              "      <th>property_villa</th>\n",
              "    </tr>\n",
              "    <tr>\n",
              "      <th>id</th>\n",
              "      <th></th>\n",
              "      <th></th>\n",
              "      <th></th>\n",
              "      <th></th>\n",
              "      <th></th>\n",
              "      <th></th>\n",
              "      <th></th>\n",
              "      <th></th>\n",
              "      <th></th>\n",
              "      <th></th>\n",
              "      <th></th>\n",
              "      <th></th>\n",
              "      <th></th>\n",
              "      <th></th>\n",
              "      <th></th>\n",
              "      <th></th>\n",
              "      <th></th>\n",
              "      <th></th>\n",
              "      <th></th>\n",
              "      <th></th>\n",
              "      <th></th>\n",
              "      <th></th>\n",
              "      <th></th>\n",
              "      <th></th>\n",
              "      <th></th>\n",
              "      <th></th>\n",
              "      <th></th>\n",
              "      <th></th>\n",
              "      <th></th>\n",
              "      <th></th>\n",
              "      <th></th>\n",
              "      <th></th>\n",
              "      <th></th>\n",
              "      <th></th>\n",
              "      <th></th>\n",
              "      <th></th>\n",
              "      <th></th>\n",
              "      <th></th>\n",
              "      <th></th>\n",
              "      <th></th>\n",
              "      <th></th>\n",
              "      <th></th>\n",
              "      <th></th>\n",
              "    </tr>\n",
              "  </thead>\n",
              "  <tbody>\n",
              "    <tr>\n",
              "      <th>5004</th>\n",
              "      <td>158</td>\n",
              "      <td>0</td>\n",
              "      <td>18</td>\n",
              "      <td>0</td>\n",
              "      <td>-37.82121</td>\n",
              "      <td>144.94186</td>\n",
              "      <td>6</td>\n",
              "      <td>1.0</td>\n",
              "      <td>2.0</td>\n",
              "      <td>3.0</td>\n",
              "      <td>200.0</td>\n",
              "      <td>120.0</td>\n",
              "      <td>10</td>\n",
              "      <td>1</td>\n",
              "      <td>1125</td>\n",
              "      <td>2</td>\n",
              "      <td>100.0</td>\n",
              "      <td>10.0</td>\n",
              "      <td>10.0</td>\n",
              "      <td>10.0</td>\n",
              "      <td>10.0</td>\n",
              "      <td>9.0</td>\n",
              "      <td>9.0</td>\n",
              "      <td>1</td>\n",
              "      <td>1.18</td>\n",
              "      <td>5.062595</td>\n",
              "      <td>0</td>\n",
              "      <td>1</td>\n",
              "      <td>0</td>\n",
              "      <td>0</td>\n",
              "      <td>1</td>\n",
              "      <td>1</td>\n",
              "      <td>0</td>\n",
              "      <td>0</td>\n",
              "      <td>0</td>\n",
              "      <td>0</td>\n",
              "      <td>0</td>\n",
              "      <td>0</td>\n",
              "      <td>0</td>\n",
              "      <td>0</td>\n",
              "      <td>0</td>\n",
              "      <td>0</td>\n",
              "      <td>0</td>\n",
              "    </tr>\n",
              "    <tr>\n",
              "      <th>6327</th>\n",
              "      <td>145</td>\n",
              "      <td>1</td>\n",
              "      <td>1</td>\n",
              "      <td>0</td>\n",
              "      <td>-37.99011</td>\n",
              "      <td>145.32888</td>\n",
              "      <td>6</td>\n",
              "      <td>1.0</td>\n",
              "      <td>3.0</td>\n",
              "      <td>3.0</td>\n",
              "      <td>500.0</td>\n",
              "      <td>0.0</td>\n",
              "      <td>25</td>\n",
              "      <td>2</td>\n",
              "      <td>35</td>\n",
              "      <td>28</td>\n",
              "      <td>100.0</td>\n",
              "      <td>10.0</td>\n",
              "      <td>10.0</td>\n",
              "      <td>10.0</td>\n",
              "      <td>10.0</td>\n",
              "      <td>10.0</td>\n",
              "      <td>10.0</td>\n",
              "      <td>1</td>\n",
              "      <td>1.40</td>\n",
              "      <td>4.976734</td>\n",
              "      <td>0</td>\n",
              "      <td>1</td>\n",
              "      <td>0</td>\n",
              "      <td>0</td>\n",
              "      <td>1</td>\n",
              "      <td>0</td>\n",
              "      <td>0</td>\n",
              "      <td>0</td>\n",
              "      <td>0</td>\n",
              "      <td>0</td>\n",
              "      <td>0</td>\n",
              "      <td>0</td>\n",
              "      <td>1</td>\n",
              "      <td>0</td>\n",
              "      <td>0</td>\n",
              "      <td>0</td>\n",
              "      <td>0</td>\n",
              "    </tr>\n",
              "    <tr>\n",
              "      <th>3640</th>\n",
              "      <td>250</td>\n",
              "      <td>0</td>\n",
              "      <td>1</td>\n",
              "      <td>0</td>\n",
              "      <td>-37.76984</td>\n",
              "      <td>145.17642</td>\n",
              "      <td>2</td>\n",
              "      <td>1.0</td>\n",
              "      <td>1.0</td>\n",
              "      <td>1.0</td>\n",
              "      <td>200.0</td>\n",
              "      <td>20.0</td>\n",
              "      <td>30</td>\n",
              "      <td>1</td>\n",
              "      <td>365</td>\n",
              "      <td>4</td>\n",
              "      <td>100.0</td>\n",
              "      <td>10.0</td>\n",
              "      <td>10.0</td>\n",
              "      <td>10.0</td>\n",
              "      <td>10.0</td>\n",
              "      <td>10.0</td>\n",
              "      <td>10.0</td>\n",
              "      <td>1</td>\n",
              "      <td>0.22</td>\n",
              "      <td>5.521461</td>\n",
              "      <td>1</td>\n",
              "      <td>0</td>\n",
              "      <td>0</td>\n",
              "      <td>1</td>\n",
              "      <td>0</td>\n",
              "      <td>0</td>\n",
              "      <td>0</td>\n",
              "      <td>0</td>\n",
              "      <td>0</td>\n",
              "      <td>0</td>\n",
              "      <td>0</td>\n",
              "      <td>0</td>\n",
              "      <td>1</td>\n",
              "      <td>0</td>\n",
              "      <td>0</td>\n",
              "      <td>0</td>\n",
              "      <td>0</td>\n",
              "    </tr>\n",
              "    <tr>\n",
              "      <th>990</th>\n",
              "      <td>45</td>\n",
              "      <td>1</td>\n",
              "      <td>1</td>\n",
              "      <td>1</td>\n",
              "      <td>-37.89575</td>\n",
              "      <td>144.99950</td>\n",
              "      <td>1</td>\n",
              "      <td>1.0</td>\n",
              "      <td>1.0</td>\n",
              "      <td>1.0</td>\n",
              "      <td>0.0</td>\n",
              "      <td>15.0</td>\n",
              "      <td>0</td>\n",
              "      <td>2</td>\n",
              "      <td>14</td>\n",
              "      <td>47</td>\n",
              "      <td>100.0</td>\n",
              "      <td>10.0</td>\n",
              "      <td>10.0</td>\n",
              "      <td>10.0</td>\n",
              "      <td>10.0</td>\n",
              "      <td>10.0</td>\n",
              "      <td>10.0</td>\n",
              "      <td>1</td>\n",
              "      <td>1.94</td>\n",
              "      <td>3.806662</td>\n",
              "      <td>1</td>\n",
              "      <td>0</td>\n",
              "      <td>0</td>\n",
              "      <td>1</td>\n",
              "      <td>0</td>\n",
              "      <td>0</td>\n",
              "      <td>0</td>\n",
              "      <td>0</td>\n",
              "      <td>0</td>\n",
              "      <td>0</td>\n",
              "      <td>0</td>\n",
              "      <td>0</td>\n",
              "      <td>0</td>\n",
              "      <td>0</td>\n",
              "      <td>0</td>\n",
              "      <td>1</td>\n",
              "      <td>0</td>\n",
              "    </tr>\n",
              "    <tr>\n",
              "      <th>4143</th>\n",
              "      <td>90</td>\n",
              "      <td>0</td>\n",
              "      <td>1</td>\n",
              "      <td>1</td>\n",
              "      <td>-38.11442</td>\n",
              "      <td>145.12736</td>\n",
              "      <td>3</td>\n",
              "      <td>1.0</td>\n",
              "      <td>1.0</td>\n",
              "      <td>1.0</td>\n",
              "      <td>0.0</td>\n",
              "      <td>45.0</td>\n",
              "      <td>10</td>\n",
              "      <td>2</td>\n",
              "      <td>1125</td>\n",
              "      <td>74</td>\n",
              "      <td>96.0</td>\n",
              "      <td>10.0</td>\n",
              "      <td>10.0</td>\n",
              "      <td>10.0</td>\n",
              "      <td>10.0</td>\n",
              "      <td>10.0</td>\n",
              "      <td>10.0</td>\n",
              "      <td>0</td>\n",
              "      <td>1.60</td>\n",
              "      <td>4.499810</td>\n",
              "      <td>0</td>\n",
              "      <td>1</td>\n",
              "      <td>0</td>\n",
              "      <td>0</td>\n",
              "      <td>1</td>\n",
              "      <td>0</td>\n",
              "      <td>0</td>\n",
              "      <td>0</td>\n",
              "      <td>0</td>\n",
              "      <td>0</td>\n",
              "      <td>1</td>\n",
              "      <td>0</td>\n",
              "      <td>0</td>\n",
              "      <td>0</td>\n",
              "      <td>0</td>\n",
              "      <td>0</td>\n",
              "      <td>0</td>\n",
              "    </tr>\n",
              "  </tbody>\n",
              "</table>\n",
              "</div>"
            ],
            "text/plain": [
              "      price  host_is_superhost  ...  property_townhouse  property_villa\n",
              "id                              ...                                    \n",
              "5004    158                  0  ...                   0               0\n",
              "6327    145                  1  ...                   0               0\n",
              "3640    250                  0  ...                   0               0\n",
              "990      45                  1  ...                   1               0\n",
              "4143     90                  0  ...                   0               0\n",
              "\n",
              "[5 rows x 43 columns]"
            ]
          },
          "metadata": {
            "tags": []
          },
          "execution_count": 22
        }
      ]
    },
    {
      "cell_type": "code",
      "metadata": {
        "id": "8FwTuZfkzh2G",
        "outputId": "d2a0ae6d-6496-4903-ace9-f12b81bd0285",
        "colab": {
          "base_uri": "https://localhost:8080/",
          "height": 34
        }
      },
      "source": [
        "train.shape"
      ],
      "execution_count": null,
      "outputs": [
        {
          "output_type": "execute_result",
          "data": {
            "text/plain": [
              "(4891, 43)"
            ]
          },
          "metadata": {
            "tags": []
          },
          "execution_count": 23
        }
      ]
    },
    {
      "cell_type": "code",
      "metadata": {
        "id": "J-CLCxTMzkYW",
        "outputId": "aabaf2a1-f6e9-4a0f-c082-762616111bee",
        "colab": {
          "base_uri": "https://localhost:8080/",
          "height": 34
        }
      },
      "source": [
        "test.shape"
      ],
      "execution_count": null,
      "outputs": [
        {
          "output_type": "execute_result",
          "data": {
            "text/plain": [
              "(2097, 43)"
            ]
          },
          "metadata": {
            "tags": []
          },
          "execution_count": 24
        }
      ]
    },
    {
      "cell_type": "code",
      "metadata": {
        "id": "sgf6NZ4QjEdW",
        "outputId": "a9b4b529-22fd-4bf5-f12d-2116b97e4b30",
        "colab": {
          "base_uri": "https://localhost:8080/",
          "height": 34
        }
      },
      "source": [
        "leaderboard.shape"
      ],
      "execution_count": null,
      "outputs": [
        {
          "output_type": "execute_result",
          "data": {
            "text/plain": [
              "(7000, 41)"
            ]
          },
          "metadata": {
            "tags": []
          },
          "execution_count": 25
        }
      ]
    },
    {
      "cell_type": "code",
      "metadata": {
        "id": "Nq4GiKdKznGj",
        "outputId": "abed759d-43d3-43b9-fd69-1c0490b9d3df",
        "colab": {
          "base_uri": "https://localhost:8080/",
          "height": 272
        }
      },
      "source": [
        "train.columns"
      ],
      "execution_count": null,
      "outputs": [
        {
          "output_type": "execute_result",
          "data": {
            "text/plain": [
              "Index(['price', 'host_is_superhost', 'host_total_listings_count',\n",
              "       'host_identity_verified', 'latitude', 'longitude', 'accommodates',\n",
              "       'bathrooms', 'bedrooms', 'beds', 'security_deposit', 'cleaning_fee',\n",
              "       'extra_people', 'minimum_nights', 'maximum_nights', 'number_of_reviews',\n",
              "       'review_scores_rating', 'review_scores_accuracy',\n",
              "       'review_scores_cleanliness', 'review_scores_checkin',\n",
              "       'review_scores_communication', 'review_scores_location',\n",
              "       'review_scores_value', 'instant_bookable', 'reviews_per_month',\n",
              "       'log_price', 'flexible', 'moderate', 'strict_14_with_grace_period',\n",
              "       'Private room', 'Entire home/apt', 'property_apt', 'property_bnb',\n",
              "       'property_bungalow', 'property_condominium', 'property_cottage',\n",
              "       'property_guest_house', 'property_guest_suite', 'property_house',\n",
              "       'property_loft', 'property_serviced_apt', 'property_townhouse',\n",
              "       'property_villa'],\n",
              "      dtype='object')"
            ]
          },
          "metadata": {
            "tags": []
          },
          "execution_count": 26
        }
      ]
    },
    {
      "cell_type": "code",
      "metadata": {
        "id": "-596lLSOriCa"
      },
      "source": [
        "response='price'\n",
        "predictors=['host_is_superhost', 'host_total_listings_count',\n",
        "       'host_identity_verified', 'latitude', 'longitude', 'accommodates',\n",
        "       'bathrooms', 'bedrooms', 'beds', 'security_deposit', 'cleaning_fee',\n",
        "       'extra_people', 'minimum_nights', 'maximum_nights', 'review_scores_rating', 'instant_bookable', 'reviews_per_month',\n",
        "       'flexible', 'moderate', 'strict_14_with_grace_period', 'Private room',\n",
        "       'Entire home/apt', 'property_apt', 'property_bnb', 'property_bungalow',\n",
        "       'property_condominium', 'property_cottage', 'property_guest_house',\n",
        "       'property_guest_suite', 'property_house', 'property_loft',\n",
        "       'property_serviced_apt', 'property_townhouse', 'property_villa']\n",
        "\n",
        "train = train[[response]+predictors] # discarding variables that we will not use (in fact here we use all the variables)\n",
        "test = test[[response]+predictors]\n",
        "leaderboard = leaderboard[predictors]"
      ],
      "execution_count": null,
      "outputs": []
    },
    {
      "cell_type": "code",
      "metadata": {
        "id": "gSyrlxUJ0JAd"
      },
      "source": [
        "# Write training and test response vectors (log-transformed)\n",
        "y_train = np.log(train[response])\n",
        "y_test = np.log(test[response])\n",
        "\n",
        "# Write training and test design matrices\n",
        "X_train = train[predictors].copy()\n",
        "X_test = test[predictors].copy()\n",
        "X_leaderboard = leaderboard[predictors].copy()"
      ],
      "execution_count": null,
      "outputs": []
    },
    {
      "cell_type": "markdown",
      "metadata": {
        "id": "ambMRF7KriCc"
      },
      "source": [
        "**** Our Y is the logarithm of the 'price'."
      ]
    },
    {
      "cell_type": "markdown",
      "metadata": {
        "id": "50U__S0aE346"
      },
      "source": [
        "## More EDA"
      ]
    },
    {
      "cell_type": "code",
      "metadata": {
        "id": "cFwSWqbO6sZO",
        "outputId": "d33dc06a-151c-47f9-f29b-9c1a1bd84e35",
        "colab": {
          "base_uri": "https://localhost:8080/",
          "height": 337
        }
      },
      "source": [
        "fig, ax = plt.subplots(figsize=(8,5))\n",
        "sns.regplot(train['bedrooms'], train['price'], scatter_kws={'s': 25}, lowess=True)\n",
        "sns.despine()\n",
        "fig.show()"
      ],
      "execution_count": null,
      "outputs": [
        {
          "output_type": "display_data",
          "data": {
            "image/png": "[encoded data removed]",
            "text/plain": [
              "<Figure size 576x360 with 1 Axes>"
            ]
          },
          "metadata": {
            "tags": []
          }
        }
      ]
    },
    {
      "cell_type": "code",
      "metadata": {
        "id": "oEK_Wljx7FLt",
        "outputId": "001359ab-25a0-413b-b834-ed93e79e2303",
        "colab": {
          "base_uri": "https://localhost:8080/",
          "height": 337
        }
      },
      "source": [
        "fig, ax = plt.subplots(figsize=(8,5))\n",
        "sns.regplot(train['beds'], train['price'], scatter_kws={'s': 25}, lowess=True)\n",
        "sns.despine()\n",
        "fig.show()"
      ],
      "execution_count": null,
      "outputs": [
        {
          "output_type": "display_data",
          "data": {
            "image/png": "[encoded data removed]",
            "text/plain": [
              "<Figure size 576x360 with 1 Axes>"
            ]
          },
          "metadata": {
            "tags": []
          }
        }
      ]
    },
    {
      "cell_type": "code",
      "metadata": {
        "id": "SeOj80YX1hE-",
        "outputId": "80c333e9-560e-4f76-9a45-0d4c661d5a92",
        "colab": {
          "base_uri": "https://localhost:8080/",
          "height": 337
        }
      },
      "source": [
        "fig, ax = plt.subplots(figsize=(8,5))\n",
        "sns.regplot(train['bathrooms'], train['price'], scatter_kws={'s': 25}, lowess=True)\n",
        "sns.despine()\n",
        "fig.show()"
      ],
      "execution_count": null,
      "outputs": [
        {
          "output_type": "display_data",
          "data": {
            "image/png": "[encoded data removed]",
            "text/plain": [
              "<Figure size 576x360 with 1 Axes>"
            ]
          },
          "metadata": {
            "tags": []
          }
        }
      ]
    },
    {
      "cell_type": "code",
      "metadata": {
        "id": "DiGvQPQ31scH",
        "outputId": "79b525fc-7e28-474a-fd8a-70d1a2c281fc",
        "colab": {
          "base_uri": "https://localhost:8080/",
          "height": 337
        }
      },
      "source": [
        "fig, ax = plt.subplots(figsize=(8,5))\n",
        "sns.regplot(train['accommodates'], train['price'], scatter_kws={'s': 25}, lowess=True)\n",
        "sns.despine()\n",
        "fig.show()"
      ],
      "execution_count": null,
      "outputs": [
        {
          "output_type": "display_data",
          "data": {
            "image/png": "[encoded data removed]",
            "text/plain": [
              "<Figure size 576x360 with 1 Axes>"
            ]
          },
          "metadata": {
            "tags": []
          }
        }
      ]
    },
    {
      "cell_type": "code",
      "metadata": {
        "id": "XqPfWHvD18u0",
        "outputId": "36bbddb9-e6b3-42eb-bc32-e91c2ce67949",
        "colab": {
          "base_uri": "https://localhost:8080/",
          "height": 337
        }
      },
      "source": [
        "fig, ax = plt.subplots(figsize=(8,5))\n",
        "sns.regplot(train['beds'], train['price'], scatter_kws={'s': 25}, lowess=True)\n",
        "sns.despine()\n",
        "fig.show()"
      ],
      "execution_count": null,
      "outputs": [
        {
          "output_type": "display_data",
          "data": {
            "image/png": "[encoded data removed]",
            "text/plain": [
              "<Figure size 576x360 with 1 Axes>"
            ]
          },
          "metadata": {
            "tags": []
          }
        }
      ]
    },
    {
      "cell_type": "code",
      "metadata": {
        "id": "TFmgKc6O7Ngs",
        "outputId": "f44dcd7c-2c78-4d1a-e0f4-4e6d50477f89",
        "colab": {
          "base_uri": "https://localhost:8080/",
          "height": 338
        }
      },
      "source": [
        "fig, ax = plt.subplots(figsize=(8,5))\n",
        "sns.regplot(train['security_deposit'], train['price'], scatter_kws={'s': 25}, lowess=True)\n",
        "sns.despine()\n",
        "fig.show()"
      ],
      "execution_count": null,
      "outputs": [
        {
          "output_type": "display_data",
          "data": {
            "image/png": "[encoded data removed]",
            "text/plain": [
              "<Figure size 576x360 with 1 Axes>"
            ]
          },
          "metadata": {
            "tags": []
          }
        }
      ]
    },
    {
      "cell_type": "code",
      "metadata": {
        "id": "RERYoOD17Zin",
        "outputId": "7c72ded7-b695-4209-c044-fe57e7958150",
        "colab": {
          "base_uri": "https://localhost:8080/",
          "height": 338
        }
      },
      "source": [
        "fig, ax = plt.subplots(figsize=(8,5))\n",
        "sns.regplot(train['cleaning_fee'], train['price'], scatter_kws={'s': 25}, lowess=True)\n",
        "sns.despine()\n",
        "fig.show()"
      ],
      "execution_count": null,
      "outputs": [
        {
          "output_type": "display_data",
          "data": {
            "image/png": "[encoded data removed]",
            "text/plain": [
              "<Figure size 576x360 with 1 Axes>"
            ]
          },
          "metadata": {
            "tags": []
          }
        }
      ]
    },
    {
      "cell_type": "code",
      "metadata": {
        "id": "CcVdJa0a7dnD",
        "outputId": "e882389d-074e-4c25-cc0e-e1528fe71af0",
        "colab": {
          "base_uri": "https://localhost:8080/",
          "height": 338
        }
      },
      "source": [
        "fig, ax = plt.subplots(figsize=(8,5))\n",
        "sns.regplot(train['extra_people'], train['price'], scatter_kws={'s': 25}, lowess=True)\n",
        "sns.despine()\n",
        "fig.show()"
      ],
      "execution_count": null,
      "outputs": [
        {
          "output_type": "display_data",
          "data": {
            "image/png": "[encoded data removed]",
            "text/plain": [
              "<Figure size 576x360 with 1 Axes>"
            ]
          },
          "metadata": {
            "tags": []
          }
        }
      ]
    },
    {
      "cell_type": "markdown",
      "metadata": {
        "id": "iF190obMriCe"
      },
      "source": [
        "## Linear Regression "
      ]
    },
    {
      "cell_type": "code",
      "metadata": {
        "id": "dqRnZYEwriCf",
        "outputId": "c078f757-ebc8-4e37-c9ea-b5fc47e55c84",
        "colab": {
          "base_uri": "https://localhost:8080/",
          "height": 34
        }
      },
      "source": [
        "ols = LinearRegression()\n",
        "ols.fit(X_train, y_train)"
      ],
      "execution_count": null,
      "outputs": [
        {
          "output_type": "execute_result",
          "data": {
            "text/plain": [
              "LinearRegression(copy_X=True, fit_intercept=True, n_jobs=None, normalize=False)"
            ]
          },
          "metadata": {
            "tags": []
          },
          "execution_count": 37
        }
      ]
    },
    {
      "cell_type": "markdown",
      "metadata": {
        "id": "Yv1yZOIdriCh"
      },
      "source": [
        "## Regularised Linear Models\n"
      ]
    },
    {
      "cell_type": "markdown",
      "metadata": {
        "id": "D9ItgYbYriCi"
      },
      "source": [
        "### Lasso"
      ]
    },
    {
      "cell_type": "code",
      "metadata": {
        "id": "jYUS6i9mriCj",
        "outputId": "114f66d2-18c7-423e-a934-450f49cd060a",
        "colab": {
          "base_uri": "https://localhost:8080/",
          "height": 51
        }
      },
      "source": [
        "%%time\n",
        "\n",
        "lasso = Pipeline((\n",
        "    ('scaler', StandardScaler()),\n",
        "    ('estimator', LassoCV(cv=5)),\n",
        "))\n",
        "\n",
        "lasso.fit(X_train, y_train)"
      ],
      "execution_count": null,
      "outputs": [
        {
          "output_type": "stream",
          "text": [
            "CPU times: user 247 ms, sys: 154 ms, total: 401 ms\n",
            "Wall time: 222 ms\n"
          ],
          "name": "stdout"
        }
      ]
    },
    {
      "cell_type": "markdown",
      "metadata": {
        "id": "sVfNkGlDriCm"
      },
      "source": [
        "### Ridge Regression"
      ]
    },
    {
      "cell_type": "code",
      "metadata": {
        "id": "8ObJjW4hriCm",
        "outputId": "f1b80281-0784-4a3e-842d-65f7eb1e636a",
        "colab": {
          "base_uri": "https://localhost:8080/",
          "height": 51
        }
      },
      "source": [
        "%%time\n",
        "\n",
        "alphas = list(np.logspace(-15, 15, 151, base=2))\n",
        "\n",
        "ridge = Pipeline((\n",
        "    ('scaler', StandardScaler()),\n",
        "    ('estimator', RidgeCV(alphas=alphas, cv=5)),\n",
        "))\n",
        "\n",
        "ridge.fit(X_train, y_train)"
      ],
      "execution_count": null,
      "outputs": [
        {
          "output_type": "stream",
          "text": [
            "CPU times: user 6.43 s, sys: 4.49 s, total: 10.9 s\n",
            "Wall time: 5.5 s\n"
          ],
          "name": "stdout"
        }
      ]
    },
    {
      "cell_type": "markdown",
      "metadata": {
        "id": "YFOSi-DBriCp"
      },
      "source": [
        "### Elastic Net"
      ]
    },
    {
      "cell_type": "code",
      "metadata": {
        "id": "S0OVuQ8priCq",
        "outputId": "a8a87f50-3748-4553-b01e-c93edb19f1e3",
        "colab": {
          "base_uri": "https://localhost:8080/",
          "height": 51
        }
      },
      "source": [
        "%%time\n",
        "\n",
        "enet = Pipeline((\n",
        "    ('scaler', StandardScaler()),\n",
        "    ('estimator', ElasticNetCV(l1_ratio=[0.01,0.1,0.2,0.3,0.4,0.5,0.6,0.7,0.8,0.9, 0.99], cv=5)),\n",
        "))\n",
        "\n",
        "enet.fit(X_train, y_train)"
      ],
      "execution_count": null,
      "outputs": [
        {
          "output_type": "stream",
          "text": [
            "CPU times: user 2 s, sys: 1.41 s, total: 3.4 s\n",
            "Wall time: 1.75 s\n"
          ],
          "name": "stdout"
        }
      ]
    },
    {
      "cell_type": "markdown",
      "metadata": {
        "id": "VqWIBtLZriCs"
      },
      "source": [
        "## Regression Tree"
      ]
    },
    {
      "cell_type": "code",
      "metadata": {
        "id": "JdNYXnQ5riCt",
        "outputId": "5fd0c15d-300d-43da-d392-df680efa166f",
        "colab": {
          "base_uri": "https://localhost:8080/",
          "height": 68
        }
      },
      "source": [
        "%%time\n",
        "\n",
        "model = DecisionTreeRegressor(min_samples_leaf=5)\n",
        "\n",
        "tuning_parameters = {\n",
        "    'min_samples_leaf': [1,5,10,20,30],\n",
        "    'max_depth': np.arange(1,30),\n",
        "}\n",
        "\n",
        "tree = RandomizedSearchCV(model, tuning_parameters, n_iter=20, cv=5, return_train_score=False)\n",
        "tree.fit(X_train, y_train)\n",
        "\n",
        "print('Best parameters:', tree.best_params_)"
      ],
      "execution_count": null,
      "outputs": [
        {
          "output_type": "stream",
          "text": [
            "Best parameters: {'min_samples_leaf': 20, 'max_depth': 10}\n",
            "CPU times: user 2.84 s, sys: 9.76 ms, total: 2.85 s\n",
            "Wall time: 2.85 s\n"
          ],
          "name": "stdout"
        }
      ]
    },
    {
      "cell_type": "markdown",
      "metadata": {
        "id": "Gru5M8RmriCw"
      },
      "source": [
        "## Bagging\n"
      ]
    },
    {
      "cell_type": "code",
      "metadata": {
        "id": "y5hKC4dEriCx",
        "outputId": "024b5444-6e52-48dd-b58a-3ada4e2597df",
        "colab": {
          "base_uri": "https://localhost:8080/",
          "height": 51
        }
      },
      "source": [
        "%%time\n",
        "\n",
        "bag = BaggingRegressor(n_estimators=500, random_state=1)\n",
        "bag.fit(X_train, y_train)"
      ],
      "execution_count": null,
      "outputs": [
        {
          "output_type": "stream",
          "text": [
            "CPU times: user 19.5 s, sys: 226 ms, total: 19.7 s\n",
            "Wall time: 19.8 s\n"
          ],
          "name": "stdout"
        }
      ]
    },
    {
      "cell_type": "markdown",
      "metadata": {
        "id": "nJi7XEUFriC0"
      },
      "source": [
        "## Random Forest Regression"
      ]
    },
    {
      "cell_type": "code",
      "metadata": {
        "id": "gFRkEPm2riC0",
        "outputId": "78b6564b-20ce-4fbf-fed7-910c71a3d504",
        "colab": {
          "base_uri": "https://localhost:8080/",
          "height": 85
        }
      },
      "source": [
        "%%time\n",
        "\n",
        "model = RandomForestRegressor(n_estimators=100)\n",
        "\n",
        "tuning_parameters = {\n",
        "    'min_samples_leaf': [1,5, 10, 20, 50],\n",
        "    'max_features': np.arange(1, X_train.shape[1], 5),\n",
        "}\n",
        "\n",
        "rf_search = RandomizedSearchCV(model, tuning_parameters, cv = 5, n_iter= 16, return_train_score=False, n_jobs=4,\n",
        "                              random_state = 20)\n",
        "rf_search.fit(X_train, y_train)\n",
        "\n",
        "rf = rf_search.best_estimator_\n",
        "\n",
        "print('Best parameters found by randomised search:', rf_search.best_params_, '\\n')"
      ],
      "execution_count": null,
      "outputs": [
        {
          "output_type": "stream",
          "text": [
            "Best parameters found by randomised search: {'min_samples_leaf': 1, 'max_features': 11} \n",
            "\n",
            "CPU times: user 2.1 s, sys: 148 ms, total: 2.25 s\n",
            "Wall time: 55.8 s\n"
          ],
          "name": "stdout"
        }
      ]
    },
    {
      "cell_type": "code",
      "metadata": {
        "id": "Vog4PIAawlqC",
        "outputId": "f774b4a7-06f2-44f6-a5f1-91591e57f3c0",
        "colab": {
          "base_uri": "https://localhost:8080/",
          "height": 51
        }
      },
      "source": [
        "model = RandomForestRegressor(criterion='mse',  n_estimators=1000, random_state=1)\n",
        "\n",
        "tuning_parameters = {\n",
        "    'min_samples_leaf': [1, 3, 5, 7, 10, 15, 20, 25, 35, 40, 45, 50],\n",
        "    'max_features': np.arange(1, len(predictors)+1),\n",
        "}\n",
        "\n",
        "rf_search = RandomizedSearchCV(model, tuning_parameters, cv=5, n_iter=16, return_train_score=False, n_jobs=4)\n",
        "rf_search.fit(X_train, y_train)\n",
        "\n",
        "rf = rf_search.best_estimator_\n",
        "\n",
        "print('Best parameters found by randomised search:', rf_search.best_params_, '\\n')"
      ],
      "execution_count": null,
      "outputs": [
        {
          "output_type": "stream",
          "text": [
            "Best parameters found by randomised search: {'min_samples_leaf': 1, 'max_features': 11} \n",
            "\n"
          ],
          "name": "stdout"
        }
      ]
    },
    {
      "cell_type": "code",
      "metadata": {
        "scrolled": true,
        "id": "tt6eQ7ZrriC3",
        "outputId": "d562fd0e-f77a-46c4-d478-f5a471253f3c",
        "colab": {
          "base_uri": "https://localhost:8080/",
          "height": 136
        }
      },
      "source": [
        "rf.n_estimators = 1500\n",
        "rf.fit(X_train, y_train)"
      ],
      "execution_count": null,
      "outputs": [
        {
          "output_type": "execute_result",
          "data": {
            "text/plain": [
              "RandomForestRegressor(bootstrap=True, criterion='mse', max_depth=None,\n",
              "                      max_features=11, max_leaf_nodes=None,\n",
              "                      min_impurity_decrease=0.0, min_impurity_split=None,\n",
              "                      min_samples_leaf=1, min_samples_split=2,\n",
              "                      min_weight_fraction_leaf=0.0, n_estimators=1500,\n",
              "                      n_jobs=None, oob_score=False, random_state=1, verbose=0,\n",
              "                      warm_start=False)"
            ]
          },
          "metadata": {
            "tags": []
          },
          "execution_count": 44
        }
      ]
    },
    {
      "cell_type": "markdown",
      "metadata": {
        "id": "Tznpam4eriC6"
      },
      "source": [
        "## Boosting\n",
        "\n",
        "Boosting has three crucial tuning parameters:\n",
        "\n",
        "<li style=\"margin-top:15px; margin-bottom: 10px\"> The learning rate.</li> \n",
        "\n",
        "<li style=\"margin-top:10px; margin-bottom: 10px\"> The number of trees.</li> \n",
        "\n",
        "<li style=\"margin-top:10px; margin-bottom: 10px\"> The size of each tree.</li> \n",
        "\n",
        "In addition, we may want to use stochastic gradient boosting by fitting each tree based on a subsample of the training data. \n",
        " "
      ]
    },
    {
      "cell_type": "markdown",
      "metadata": {
        "id": "4N2ldEjAiIsD"
      },
      "source": [
        "###SKLearn Boosting"
      ]
    },
    {
      "cell_type": "code",
      "metadata": {
        "id": "3Ce3vTWqriC7",
        "outputId": "e65e533d-7c82-4e52-9a62-fd06e3c0a11a",
        "colab": {
          "base_uri": "https://localhost:8080/",
          "height": 170
        }
      },
      "source": [
        "from sklearn.ensemble import GradientBoostingRegressor\n",
        "\n",
        "gb = GradientBoostingRegressor(learning_rate= 0.05, max_depth = 4, n_estimators= 750, subsample = 1.0)\n",
        "gb.fit(X_train, y_train)"
      ],
      "execution_count": null,
      "outputs": [
        {
          "output_type": "execute_result",
          "data": {
            "text/plain": [
              "GradientBoostingRegressor(alpha=0.9, criterion='friedman_mse', init=None,\n",
              "                          learning_rate=0.05, loss='ls', max_depth=4,\n",
              "                          max_features=None, max_leaf_nodes=None,\n",
              "                          min_impurity_decrease=0.0, min_impurity_split=None,\n",
              "                          min_samples_leaf=1, min_samples_split=2,\n",
              "                          min_weight_fraction_leaf=0.0, n_estimators=750,\n",
              "                          n_iter_no_change=None, presort='auto',\n",
              "                          random_state=None, subsample=1.0, tol=0.0001,\n",
              "                          validation_fraction=0.1, verbose=0, warm_start=False)"
            ]
          },
          "metadata": {
            "tags": []
          },
          "execution_count": 45
        }
      ]
    },
    {
      "cell_type": "markdown",
      "metadata": {
        "id": "VsHpfO1EriC9"
      },
      "source": [
        "Randomised search to tune the model. "
      ]
    },
    {
      "cell_type": "code",
      "metadata": {
        "id": "eUusI3lyriC-",
        "outputId": "7fca53a6-595f-40b4-a7d7-1dce8b9d99ff",
        "colab": {
          "base_uri": "https://localhost:8080/",
          "height": 85
        }
      },
      "source": [
        "%%time\n",
        "\n",
        "model = GradientBoostingRegressor()\n",
        "\n",
        "tuning_parameters = {\n",
        "    'learning_rate': [0.01, 0.05, 0.1],\n",
        "    'n_estimators' : [250, 500, 750, 1000, 1500],\n",
        "    'max_depth' : [2 ,3, 4,5,6,7,8,9,10],\n",
        "    'subsample' : [0.6, 0.8, 1.0]\n",
        "}\n",
        "\n",
        "# Using GridSearchCV would be too slow. Increase the number of iterations to explore more hyperparameter combinations.\n",
        "gb = RandomizedSearchCV(model, tuning_parameters, n_iter = 20, cv = 10, return_train_score=False, n_jobs=4)\n",
        "gb.fit(X_train, y_train)\n",
        "\n",
        "print('Best parameters found by randomised search:', gb.best_params_, '\\n')"
      ],
      "execution_count": null,
      "outputs": [
        {
          "output_type": "stream",
          "text": [
            "Best parameters found by randomised search: {'subsample': 0.8, 'n_estimators': 1000, 'max_depth': 7, 'learning_rate': 0.01} \n",
            "\n",
            "CPU times: user 25.3 s, sys: 172 ms, total: 25.4 s\n",
            "Wall time: 31min 23s\n"
          ],
          "name": "stdout"
        }
      ]
    },
    {
      "cell_type": "code",
      "metadata": {
        "id": "r9n2ePfxriDB",
        "outputId": "eb43399b-bf04-4387-d127-adf22392d94d",
        "colab": {
          "base_uri": "https://localhost:8080/",
          "height": 170
        }
      },
      "source": [
        "gb.best_estimator_"
      ],
      "execution_count": null,
      "outputs": [
        {
          "output_type": "execute_result",
          "data": {
            "text/plain": [
              "GradientBoostingRegressor(alpha=0.9, criterion='friedman_mse', init=None,\n",
              "                          learning_rate=0.01, loss='ls', max_depth=7,\n",
              "                          max_features=None, max_leaf_nodes=None,\n",
              "                          min_impurity_decrease=0.0, min_impurity_split=None,\n",
              "                          min_samples_leaf=1, min_samples_split=2,\n",
              "                          min_weight_fraction_leaf=0.0, n_estimators=1000,\n",
              "                          n_iter_no_change=None, presort='auto',\n",
              "                          random_state=None, subsample=0.8, tol=0.0001,\n",
              "                          validation_fraction=0.1, verbose=0, warm_start=False)"
            ]
          },
          "metadata": {
            "tags": []
          },
          "execution_count": 47
        }
      ]
    },
    {
      "cell_type": "markdown",
      "metadata": {
        "id": "LX1fxES7riDE"
      },
      "source": [
        "Variable importance"
      ]
    },
    {
      "cell_type": "code",
      "metadata": {
        "id": "KsnaFKY8riDG",
        "outputId": "08a04d84-bf95-4e8c-9bbc-f3ac36ca06fa",
        "colab": {
          "base_uri": "https://localhost:8080/",
          "height": 390
        }
      },
      "source": [
        "from statlearning import plot_feature_importance\n",
        "\n",
        "plot_feature_importance(gb.best_estimator_, predictors)\n",
        "plt.show()"
      ],
      "execution_count": null,
      "outputs": [
        {
          "output_type": "display_data",
          "data": {
            "image/png": "[encoded data removed]",
            "text/plain": [
              "<Figure size 648x432 with 1 Axes>"
            ]
          },
          "metadata": {
            "tags": []
          }
        }
      ]
    },
    {
      "cell_type": "markdown",
      "metadata": {
        "id": "IbNm7MDMriDK"
      },
      "source": [
        "### XGBoost\n"
      ]
    },
    {
      "cell_type": "code",
      "metadata": {
        "id": "enyy9PMYLQ8I"
      },
      "source": [
        "from matplotlib import pyplot"
      ],
      "execution_count": null,
      "outputs": []
    },
    {
      "cell_type": "code",
      "metadata": {
        "id": "hkBYKizKriDL",
        "outputId": "7a512d61-21d9-49d9-d2ab-371d658c23d9",
        "colab": {
          "base_uri": "https://localhost:8080/",
          "height": 102
        }
      },
      "source": [
        "%%time\n",
        "\n",
        "model = xgb.XGBRegressor()\n",
        "\n",
        "tuning_parameters = {\n",
        "    'learning_rate': [0.01, 0.05, 0.1],\n",
        "    'n_estimators' : [250, 500, 750, 1000, 1500],\n",
        "    'max_depth' : [2, 3, 4, 4, 5, 6, 7, 8],\n",
        "    'subsample' : [0.6, 0.8, 1.0],\n",
        "}\n",
        "\n",
        "gb_search = RandomizedSearchCV(model, tuning_parameters, n_iter = 16, cv = 5, return_train_score=False, n_jobs=4,\n",
        "                              random_state = 20)\n",
        "gb_search.fit(X_train, y_train)\n",
        "\n",
        "xbst = gb_search.best_estimator_\n",
        "\n",
        "\n",
        "print('Best parameters found by randomised search:', gb_search.best_params_, '\\n')\n",
        "\n"
      ],
      "execution_count": null,
      "outputs": [
        {
          "output_type": "stream",
          "text": [
            "[08:36:02] WARNING: /workspace/src/objective/regression_obj.cu:152: reg:linear is now deprecated in favor of reg:squarederror.\n",
            "Best parameters found by randomised search: {'subsample': 0.6, 'n_estimators': 1500, 'max_depth': 6, 'learning_rate': 0.01} \n",
            "\n",
            "CPU times: user 18.6 s, sys: 93.2 ms, total: 18.7 s\n",
            "Wall time: 8min 13s\n"
          ],
          "name": "stdout"
        }
      ]
    },
    {
      "cell_type": "code",
      "metadata": {
        "id": "wEV1suC8riDN",
        "outputId": "e96d0f3a-4fd7-49fe-8e94-3134474f56c8",
        "colab": {
          "base_uri": "https://localhost:8080/",
          "height": 390
        }
      },
      "source": [
        "plot_feature_importance(xbst, labels=predictors)\n",
        "plt.show()"
      ],
      "execution_count": null,
      "outputs": [
        {
          "output_type": "display_data",
          "data": {
            "image/png": "[encoded data removed]",
            "text/plain": [
              "<Figure size 648x432 with 1 Axes>"
            ]
          },
          "metadata": {
            "tags": []
          }
        }
      ]
    },
    {
      "cell_type": "code",
      "metadata": {
        "id": "mrb9lhWzASH2",
        "outputId": "57a6fa34-a568-4997-da19-5848a807e903",
        "colab": {
          "base_uri": "https://localhost:8080/",
          "height": 390
        }
      },
      "source": [
        "plot_feature_importance(xbst, labels=predictors, max_features=15)\n",
        "plt.show()"
      ],
      "execution_count": null,
      "outputs": [
        {
          "output_type": "display_data",
          "data": {
            "image/png": "[encoded data removed]",
            "text/plain": [
              "<Figure size 648x432 with 1 Axes>"
            ]
          },
          "metadata": {
            "tags": []
          }
        }
      ]
    },
    {
      "cell_type": "markdown",
      "metadata": {
        "id": "MITLccg9riDP"
      },
      "source": [
        "Selecting the number of boosting iterations by cross-validation and early stopping. "
      ]
    },
    {
      "cell_type": "code",
      "metadata": {
        "id": "0DJ-Z298riDQ",
        "outputId": "c93891e3-12d0-4a2d-a33e-88d2a06cc06a",
        "colab": {
          "base_uri": "https://localhost:8080/",
          "height": 255
        }
      },
      "source": [
        "%%time\n",
        "\n",
        "dtrain = xgb.DMatrix(X_train, y_train) # we need to convert the data to the format required by xgboost\n",
        "dtest  = xgb.DMatrix(X_test)\n",
        "\n",
        "param = {\n",
        "    'max_depth': 6, \n",
        "    'learning_rate': 0.01, \n",
        "    'subsample': 0.6,\n",
        "    'silent' : 0, \n",
        "    'objective':'reg:linear',  \n",
        "     }\n",
        "\n",
        "cv = xgb.cv(param, dtrain, num_boost_round = 1500, nfold=10, early_stopping_rounds=50)\n",
        "\n",
        "print(f'Selected number of boosting iterations: {cv.shape[0]}')\n",
        "print(f'RMSE (CV): {cv.iloc[-1,0]:.4f}')"
      ],
      "execution_count": null,
      "outputs": [
        {
          "output_type": "stream",
          "text": [
            "[08:38:36] WARNING: /workspace/src/objective/regression_obj.cu:152: reg:linear is now deprecated in favor of reg:squarederror.\n",
            "[08:38:36] WARNING: /workspace/src/objective/regression_obj.cu:152: reg:linear is now deprecated in favor of reg:squarederror.\n",
            "[08:38:36] WARNING: /workspace/src/objective/regression_obj.cu:152: reg:linear is now deprecated in favor of reg:squarederror.\n",
            "[08:38:36] WARNING: /workspace/src/objective/regression_obj.cu:152: reg:linear is now deprecated in favor of reg:squarederror.\n",
            "[08:38:36] WARNING: /workspace/src/objective/regression_obj.cu:152: reg:linear is now deprecated in favor of reg:squarederror.\n",
            "[08:38:36] WARNING: /workspace/src/objective/regression_obj.cu:152: reg:linear is now deprecated in favor of reg:squarederror.\n",
            "[08:38:36] WARNING: /workspace/src/objective/regression_obj.cu:152: reg:linear is now deprecated in favor of reg:squarederror.\n",
            "[08:38:36] WARNING: /workspace/src/objective/regression_obj.cu:152: reg:linear is now deprecated in favor of reg:squarederror.\n",
            "[08:38:36] WARNING: /workspace/src/objective/regression_obj.cu:152: reg:linear is now deprecated in favor of reg:squarederror.\n",
            "[08:38:36] WARNING: /workspace/src/objective/regression_obj.cu:152: reg:linear is now deprecated in favor of reg:squarederror.\n",
            "Selected number of boosting iterations: 1251\n",
            "RMSE (CV): 0.2241\n",
            "CPU times: user 2min 40s, sys: 686 ms, total: 2min 41s\n",
            "Wall time: 2min 41s\n"
          ],
          "name": "stdout"
        }
      ]
    },
    {
      "cell_type": "code",
      "metadata": {
        "id": "TCP2JbQ4riDT",
        "outputId": "1185553e-c942-48fe-c5b1-5e6485f78fed",
        "colab": {
          "base_uri": "https://localhost:8080/",
          "height": 337
        }
      },
      "source": [
        "fig, ax = plt.subplots(figsize=(8,5))\n",
        "plt.plot(cv.iloc[:,0])\n",
        "ax.set_ylabel('Cross-validation RMSE')\n",
        "ax.set_xlabel('Boosting iterations')\n",
        "sns.despine()\n",
        "plt.show()"
      ],
      "execution_count": null,
      "outputs": [
        {
          "output_type": "display_data",
          "data": {
            "image/png": "[encoded data removed]",
            "text/plain": [
              "<Figure size 576x360 with 1 Axes>"
            ]
          },
          "metadata": {
            "tags": []
          }
        }
      ]
    },
    {
      "cell_type": "markdown",
      "metadata": {
        "id": "RHRvbkJJriDV"
      },
      "source": [
        "### LightGBM\n"
      ]
    },
    {
      "cell_type": "code",
      "metadata": {
        "id": "Ms_xu6h1riDW",
        "outputId": "c7d19c50-1d4b-4960-e188-564699ba5665",
        "colab": {
          "base_uri": "https://localhost:8080/",
          "height": 85
        }
      },
      "source": [
        "%%time\n",
        "\n",
        "model = lgb.LGBMRegressor(objective='regression')\n",
        "\n",
        "\n",
        "tuning_parameters = {\n",
        "    'learning_rate': [0.01, 0.05, 0.1],\n",
        "    'n_estimators' : [250, 500, 750, 1000, 1500],\n",
        "    'max_depth' : [2, 3, 4, 5, 6, 7, 8],\n",
        "    'subsample' : [0.6, 0.8, 1.0],\n",
        "}\n",
        "\n",
        "gb_search = RandomizedSearchCV(\n",
        "    model, tuning_parameters, n_iter=64, cv=5, \n",
        "    return_train_score=False, n_jobs=4, random_state=20\n",
        ")\n",
        "\n",
        "gb_search.fit(X_train, y_train)\n",
        "\n",
        "lbst = gb_search.best_estimator_\n",
        "\n",
        "\n",
        "print('Best parameters found by randomised search:', gb_search.best_params_, '\\n')"
      ],
      "execution_count": null,
      "outputs": [
        {
          "output_type": "stream",
          "text": [
            "Best parameters found by randomised search: {'subsample': 0.6, 'n_estimators': 250, 'max_depth': 8, 'learning_rate': 0.05} \n",
            "\n",
            "CPU times: user 3.15 s, sys: 472 ms, total: 3.62 s\n",
            "Wall time: 3min 29s\n"
          ],
          "name": "stdout"
        }
      ]
    },
    {
      "cell_type": "code",
      "metadata": {
        "id": "6pT3N9RvDUEh",
        "outputId": "252db1fe-fae5-449d-f46b-1b65cae3e9f8",
        "colab": {
          "base_uri": "https://localhost:8080/",
          "height": 390
        }
      },
      "source": [
        "plot_feature_importance(lbst, labels=predictors)\n",
        "plt.show()"
      ],
      "execution_count": null,
      "outputs": [
        {
          "output_type": "display_data",
          "data": {
            "image/png": "[encoded data removed]",
            "text/plain": [
              "<Figure size 648x432 with 1 Axes>"
            ]
          },
          "metadata": {
            "tags": []
          }
        }
      ]
    },
    {
      "cell_type": "markdown",
      "metadata": {
        "id": "g0QUbEusriDY"
      },
      "source": [
        "### Additive Boosting\n"
      ]
    },
    {
      "cell_type": "code",
      "metadata": {
        "id": "_37Lekk_riDY",
        "outputId": "443ba932-6e7b-4468-a436-bdeab881faf1",
        "colab": {
          "base_uri": "https://localhost:8080/",
          "height": 85
        }
      },
      "source": [
        "%%time\n",
        "\n",
        "y_fit = lasso.predict(X_train)\n",
        "resid = y_train - y_fit\n",
        "\n",
        "model = lgb.LGBMRegressor(objective='regression')\n",
        "\n",
        "\n",
        "tuning_parameters = {\n",
        "    'learning_rate': [0.01, 0.05, 0.1],\n",
        "    'n_estimators' : [250, 500, 750, 1000, 1500],\n",
        "    'max_depth' : [2, 3, 4, 5, 6, 7, 8],\n",
        "    'subsample' : [0.6, 0.8, 1.0],\n",
        "}\n",
        "\n",
        "gb_search = RandomizedSearchCV(model, tuning_parameters, n_iter = 16, cv = 5, return_train_score=False, n_jobs=4, \n",
        "                               random_state = 20)\n",
        "\n",
        "gb_search.fit(X_train, resid)\n",
        "\n",
        "abst = gb_search.best_estimator_\n",
        "\n",
        "\n",
        "print('Best parameters found by randomised search:', gb_search.best_params_, '\\n')"
      ],
      "execution_count": null,
      "outputs": [
        {
          "output_type": "stream",
          "text": [
            "Best parameters found by randomised search: {'subsample': 0.6, 'n_estimators': 1000, 'max_depth': 7, 'learning_rate': 0.01} \n",
            "\n",
            "CPU times: user 2.4 s, sys: 241 ms, total: 2.64 s\n",
            "Wall time: 49.8 s\n"
          ],
          "name": "stdout"
        }
      ]
    },
    {
      "cell_type": "code",
      "metadata": {
        "id": "al_qFAOBDmrm",
        "outputId": "fa63c8a0-3c19-469a-ab50-89dc9da08705",
        "colab": {
          "base_uri": "https://localhost:8080/",
          "height": 390
        }
      },
      "source": [
        "plot_feature_importance(abst, labels=predictors)\n",
        "plt.show()"
      ],
      "execution_count": null,
      "outputs": [
        {
          "output_type": "display_data",
          "data": {
            "image/png": "[encoded data removed]",
            "text/plain": [
              "<Figure size 648x432 with 1 Axes>"
            ]
          },
          "metadata": {
            "tags": []
          }
        }
      ]
    },
    {
      "cell_type": "code",
      "metadata": {
        "id": "nY06jUdcypil"
      },
      "source": [
        ""
      ],
      "execution_count": null,
      "outputs": []
    },
    {
      "cell_type": "markdown",
      "metadata": {
        "id": "E-KqM_xKriDd"
      },
      "source": [
        "## Model Stacking"
      ]
    },
    {
      "cell_type": "code",
      "metadata": {
        "id": "xCFEXgTCriDd",
        "outputId": "70919112-37f8-4e5e-f24c-2e72d695a024",
        "colab": {
          "base_uri": "https://localhost:8080/",
          "height": 238
        }
      },
      "source": [
        "%%time\n",
        "\n",
        "models = [ols, lasso, ridge, xbst]\n",
        "\n",
        "stack = StackingCVRegressor(models, meta_regressor=LinearRegression(), cv=10)\n",
        "stack.fit(X_train.values, y_train.ravel())"
      ],
      "execution_count": null,
      "outputs": [
        {
          "output_type": "stream",
          "text": [
            "[08:50:29] WARNING: /workspace/src/objective/regression_obj.cu:152: reg:linear is now deprecated in favor of reg:squarederror.\n",
            "[08:50:45] WARNING: /workspace/src/objective/regression_obj.cu:152: reg:linear is now deprecated in favor of reg:squarederror.\n",
            "[08:51:02] WARNING: /workspace/src/objective/regression_obj.cu:152: reg:linear is now deprecated in favor of reg:squarederror.\n",
            "[08:51:18] WARNING: /workspace/src/objective/regression_obj.cu:152: reg:linear is now deprecated in favor of reg:squarederror.\n",
            "[08:51:35] WARNING: /workspace/src/objective/regression_obj.cu:152: reg:linear is now deprecated in favor of reg:squarederror.\n",
            "[08:51:51] WARNING: /workspace/src/objective/regression_obj.cu:152: reg:linear is now deprecated in favor of reg:squarederror.\n",
            "[08:52:07] WARNING: /workspace/src/objective/regression_obj.cu:152: reg:linear is now deprecated in favor of reg:squarederror.\n",
            "[08:52:24] WARNING: /workspace/src/objective/regression_obj.cu:152: reg:linear is now deprecated in favor of reg:squarederror.\n",
            "[08:52:40] WARNING: /workspace/src/objective/regression_obj.cu:152: reg:linear is now deprecated in favor of reg:squarederror.\n",
            "[08:52:57] WARNING: /workspace/src/objective/regression_obj.cu:152: reg:linear is now deprecated in favor of reg:squarederror.\n",
            "[08:53:18] WARNING: /workspace/src/objective/regression_obj.cu:152: reg:linear is now deprecated in favor of reg:squarederror.\n",
            "CPU times: user 3min 43s, sys: 30.1 s, total: 4min 13s\n",
            "Wall time: 3min 38s\n"
          ],
          "name": "stdout"
        }
      ]
    },
    {
      "cell_type": "markdown",
      "metadata": {
        "id": "8ckuY8X7riDf"
      },
      "source": [
        "## Model Evaluation\n",
        "\n"
      ]
    },
    {
      "cell_type": "markdown",
      "metadata": {
        "id": "LNlK9-wPJv03"
      },
      "source": [
        "####Log prices"
      ]
    },
    {
      "cell_type": "code",
      "metadata": {
        "id": "etD5_N5yJvAT",
        "outputId": "7f61486c-a13a-4e1f-bb6a-0bcb181e6e4b",
        "colab": {
          "base_uri": "https://localhost:8080/",
          "height": 421
        }
      },
      "source": [
        "columns=['Test RMSE', 'Test R2']\n",
        "rows=['OLS', 'Lasso', 'Ridge', 'Elastic Net', 'Tree', 'Bagged Trees', 'Random Forest', 'SKLearn Boost', 'XGBoost', 'LightGBM', 'Additive Boost', 'Stack']\n",
        "results=pd.DataFrame(0.0, columns=columns, index=rows) \n",
        "\n",
        "methods=[ols, lasso, ridge, enet, tree, bag, rf, gb, xbst, lbst, abst, stack]\n",
        "\n",
        "for i, method in enumerate(methods):\n",
        "    \n",
        "    if method != stack:\n",
        "        y_pred= method.predict(X_test)   \n",
        "        if method == abst:\n",
        "            y_pred=ols.predict(X_test)+method.predict(X_test)              \n",
        "    else:\n",
        "        y_pred= method.predict(X_test.values)\n",
        "        \n",
        "    results.iloc[i,0] = np.sqrt(mean_squared_error(y_test, y_pred))\n",
        "    results.iloc[i,1] = r2_score(y_test, y_pred)\n",
        "\n",
        "results.round(3)"
      ],
      "execution_count": null,
      "outputs": [
        {
          "output_type": "execute_result",
          "data": {
            "text/html": [
              "<div>\n",
              "<style scoped>\n",
              "    .dataframe tbody tr th:only-of-type {\n",
              "        vertical-align: middle;\n",
              "    }\n",
              "\n",
              "    .dataframe tbody tr th {\n",
              "        vertical-align: top;\n",
              "    }\n",
              "\n",
              "    .dataframe thead th {\n",
              "        text-align: right;\n",
              "    }\n",
              "</style>\n",
              "<table border=\"1\" class=\"dataframe\">\n",
              "  <thead>\n",
              "    <tr style=\"text-align: right;\">\n",
              "      <th></th>\n",
              "      <th>Test RMSE</th>\n",
              "      <th>Test R2</th>\n",
              "    </tr>\n",
              "  </thead>\n",
              "  <tbody>\n",
              "    <tr>\n",
              "      <th>OLS</th>\n",
              "      <td>0.436</td>\n",
              "      <td>0.607</td>\n",
              "    </tr>\n",
              "    <tr>\n",
              "      <th>Lasso</th>\n",
              "      <td>0.436</td>\n",
              "      <td>0.607</td>\n",
              "    </tr>\n",
              "    <tr>\n",
              "      <th>Ridge</th>\n",
              "      <td>0.436</td>\n",
              "      <td>0.607</td>\n",
              "    </tr>\n",
              "    <tr>\n",
              "      <th>Elastic Net</th>\n",
              "      <td>0.436</td>\n",
              "      <td>0.607</td>\n",
              "    </tr>\n",
              "    <tr>\n",
              "      <th>Tree</th>\n",
              "      <td>0.442</td>\n",
              "      <td>0.596</td>\n",
              "    </tr>\n",
              "    <tr>\n",
              "      <th>Bagged Trees</th>\n",
              "      <td>0.396</td>\n",
              "      <td>0.676</td>\n",
              "    </tr>\n",
              "    <tr>\n",
              "      <th>Random Forest</th>\n",
              "      <td>0.391</td>\n",
              "      <td>0.684</td>\n",
              "    </tr>\n",
              "    <tr>\n",
              "      <th>SKLearn Boost</th>\n",
              "      <td>0.382</td>\n",
              "      <td>0.698</td>\n",
              "    </tr>\n",
              "    <tr>\n",
              "      <th>XGBoost</th>\n",
              "      <td>0.383</td>\n",
              "      <td>0.697</td>\n",
              "    </tr>\n",
              "    <tr>\n",
              "      <th>LightGBM</th>\n",
              "      <td>0.386</td>\n",
              "      <td>0.692</td>\n",
              "    </tr>\n",
              "    <tr>\n",
              "      <th>Additive Boost</th>\n",
              "      <td>0.386</td>\n",
              "      <td>0.691</td>\n",
              "    </tr>\n",
              "    <tr>\n",
              "      <th>Stack</th>\n",
              "      <td>0.382</td>\n",
              "      <td>0.698</td>\n",
              "    </tr>\n",
              "  </tbody>\n",
              "</table>\n",
              "</div>"
            ],
            "text/plain": [
              "                Test RMSE  Test R2\n",
              "OLS                 0.436    0.607\n",
              "Lasso               0.436    0.607\n",
              "Ridge               0.436    0.607\n",
              "Elastic Net         0.436    0.607\n",
              "Tree                0.442    0.596\n",
              "Bagged Trees        0.396    0.676\n",
              "Random Forest       0.391    0.684\n",
              "SKLearn Boost       0.382    0.698\n",
              "XGBoost             0.383    0.697\n",
              "LightGBM            0.386    0.692\n",
              "Additive Boost      0.386    0.691\n",
              "Stack               0.382    0.698"
            ]
          },
          "metadata": {
            "tags": []
          },
          "execution_count": 62
        }
      ]
    },
    {
      "cell_type": "markdown",
      "metadata": {
        "id": "vzdJ0SIVgd25"
      },
      "source": [
        "Stacking shows the best result here, thus making predictions based on it"
      ]
    },
    {
      "cell_type": "markdown",
      "metadata": {
        "id": "gNN-YMBAgS4Y"
      },
      "source": [
        "Making predictions in the original prices, exponentiating the y values."
      ]
    },
    {
      "cell_type": "code",
      "metadata": {
        "id": "IlBrKt6wyOQK"
      },
      "source": [
        "# predicting XGBoost\n",
        "y_pred = np.exp(xbst.predict(X_leaderboard)) \n",
        "\n",
        "leaderboard['Predicted'] = (y_pred) "
      ],
      "execution_count": null,
      "outputs": []
    },
    {
      "cell_type": "code",
      "metadata": {
        "id": "o4Jkayb9yzIB",
        "outputId": "37a2e07d-14b6-4763-dfa5-cc0adf01e8fe",
        "colab": {
          "base_uri": "https://localhost:8080/",
          "height": 136
        }
      },
      "source": [
        "leaderboard['Predicted'].head()"
      ],
      "execution_count": null,
      "outputs": [
        {
          "output_type": "execute_result",
          "data": {
            "text/plain": [
              "id\n",
              "1    119.828979\n",
              "2    177.170166\n",
              "3    120.997475\n",
              "4    120.863289\n",
              "5    270.432831\n",
              "Name: Predicted, dtype: float32"
            ]
          },
          "metadata": {
            "tags": []
          },
          "execution_count": 61
        }
      ]
    },
    {
      "cell_type": "markdown",
      "metadata": {
        "id": "BzL_tD9Tkz3I"
      },
      "source": [
        "Making a submission"
      ]
    },
    {
      "cell_type": "code",
      "metadata": {
        "id": "URztEQ5Gk0iP"
      },
      "source": [
        "submission = pd.DataFrame(np.c_[leaderboard.index, y_pred], columns=['Id', 'Predicted'])\n",
        "submission['Id'] = submission['Id'].astype(int)\n",
        "submission.to_csv('kaggle_submission_17_xbst.csv',  index=False)"
      ],
      "execution_count": null,
      "outputs": []
    }
  ]
}